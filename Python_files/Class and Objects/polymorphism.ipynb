{
 "cells": [
  {
   "attachments": {},
   "cell_type": "markdown",
   "metadata": {},
   "source": [
    "Polymorphism\n",
    "-------------"
   ]
  },
  {
   "cell_type": "code",
   "execution_count": 15,
   "metadata": {},
   "outputs": [
    {
     "name": "stdout",
     "output_type": "stream",
     "text": [
      "This is my hobbies class\n"
     ]
    }
   ],
   "source": [
    "# polymorphism\n",
    "\n",
    "# method overloading is not supported in python.\n",
    "class Student:\n",
    "    def studentInfo(self,x):\n",
    "        print(\"This is student Class\")\n",
    "\n",
    "class StudentHobbies(Student):\n",
    "    def studentInfo(self):\n",
    "        print(\"This is my hobbies class\")\n",
    "\n",
    "sh1 = StudentHobbies()\n",
    "# method overriding\n",
    "sh1.studentInfo()"
   ]
  },
  {
   "attachments": {},
   "cell_type": "markdown",
   "metadata": {},
   "source": [
    "In Python, method overloading is not supported directly. However, we can achieve method overloading through the use of default arguments and variable-length arguments.\n",
    "\n",
    "Here is an example of a method that can be called with either one or two arguments:"
   ]
  },
  {
   "cell_type": "code",
   "execution_count": 13,
   "metadata": {},
   "outputs": [
    {
     "name": "stdout",
     "output_type": "stream",
     "text": [
      "Called with one argument: 1\n",
      "Called with two arguments: 1 2\n"
     ]
    }
   ],
   "source": [
    "class MyClass:\n",
    "    def my_method(self, arg1, arg2=None):\n",
    "        if arg2 is None:\n",
    "            print(\"Called with one argument:\", arg1)\n",
    "        else:\n",
    "            print(\"Called with two arguments:\", arg1, arg2)\n",
    "\n",
    "obj = MyClass()\n",
    "obj.my_method(1)  # Called with one argument: 1\n",
    "obj.my_method(1, 2)  # Called with two arguments: 1 2\n",
    "\n",
    "# In this example, the my_method method is defined with two arguments, arg1 and arg2, with arg2 having a default value of None. \n",
    "# When the method is called with one argument, the default value of arg2 is used. When it is called with two arguments, the second argument \n",
    "# is passed in and overrides the default value."
   ]
  },
  {
   "attachments": {},
   "cell_type": "markdown",
   "metadata": {},
   "source": [
    "We can't assign the plus(addition) operator between objects. So we have to change the behaviour of the objects."
   ]
  },
  {
   "cell_type": "code",
   "execution_count": 10,
   "metadata": {},
   "outputs": [
    {
     "name": "stdout",
     "output_type": "stream",
     "text": [
      "the data we have object is 20 10\n",
      "(50, 50)\n",
      "(50, 50)\n"
     ]
    }
   ],
   "source": [
    "class Futurense:\n",
    "    def __init__(self,num1,num2):\n",
    "        self.num1 = num1\n",
    "        self.num2 = num2\n",
    "    \n",
    "    def __str__(self):\n",
    "        return \"the data we have object is {} {}\".format(self.num1,self.num2)\n",
    "\n",
    "    # f1.__add__(f2)\n",
    "    # here self is obj1 and obj2 acts as argument but refers the second object.\n",
    "    # self -> f1 and obj2 -> f2\n",
    "    def __add__(self,obj2):\n",
    "        return self.num1 + obj2.num1, self.num2 + obj2.num2 #returns a atuple.\n",
    "\n",
    "f1 = Futurense(20,10)\n",
    "f2 = Futurense(30,40)\n",
    "\n",
    "# f1 + f2\n",
    "# TypeError: unsupported operand type(s) for +: 'Futurense' and 'Futurense'\n",
    "print(f1)\n",
    "print(f1.__add__(f2))\n",
    "print(f1+f2)  #here + refers the dunder method __add__ ."
   ]
  },
  {
   "attachments": {},
   "cell_type": "markdown",
   "metadata": {},
   "source": [
    "Dunder method (used to change the behaviour of the certain operations such as arithmetic, representaion and initialization)\n",
    "--------------"
   ]
  },
  {
   "attachments": {},
   "cell_type": "markdown",
   "metadata": {},
   "source": [
    "In Python, \"dunder\" (short for \"double underscore\") methods are special methods that have names that start and end with double underscores, such as __init__ or __str__. They are used to define the behavior of certain operations on an object, such as initialization, representation, or arithmetic.\n",
    "\n",
    "For example, the __init__ method is called when an object is created and is used to initialize the object's attributes. The __str__ method is used to define how the object should be represented as a string, and is called when the str() or print() function is used on the object. The __add__ method is used to define the behavior of the + operator when used on the object."
   ]
  },
  {
   "cell_type": "code",
   "execution_count": 8,
   "metadata": {},
   "outputs": [
    {
     "name": "stdout",
     "output_type": "stream",
     "text": [
      "5\n"
     ]
    }
   ],
   "source": [
    "# Python has a lot of dunder methods, and you can use them to customize the behavior of built-in operations for your own classes.\n",
    "\n",
    "class MyClass:\n",
    "    def __init__(self, value):\n",
    "        self.value = value\n",
    "\n",
    "    def __str__(self):\n",
    "        return str(self.value)\n",
    "\n",
    "obj = MyClass(5)\n",
    "print(obj)  # output: 5\n"
   ]
  },
  {
   "cell_type": "code",
   "execution_count": 21,
   "metadata": {},
   "outputs": [
    {
     "name": "stdout",
     "output_type": "stream",
     "text": [
      "Greater than ->  True\n"
     ]
    }
   ],
   "source": [
    "# <!-- Question : 10 > 5 -> True / False using '__gt__' (>, <, ==) method  -->\n",
    "\n",
    "class Comparison:\n",
    "    def __init__(self,num1,num2):\n",
    "        self.num1 = num1\n",
    "        self.num2 = num2\n",
    "    \n",
    "    def __str__(self):\n",
    "        return \"the data we have object is {} {}\".format(self.num1,self.num2)\n",
    "\n",
    "    def __gt__(self,obj2):\n",
    "        if self.num1 ** 2 + obj2.num1 ** 2 > self.num2 ** 2 + obj2.num2 ** 2 : \n",
    "            return True\n",
    "        else:\n",
    "            return False\n",
    "\n",
    "f1 = Comparison(1,0.5)\n",
    "f2 = Comparison(1,0.5)\n",
    "\n",
    "print(\"Greater than -> \",f1 > f2)\n",
    "\n",
    "# print(\"Equal to ->\",f1 == f2)\n",
    "\n"
   ]
  },
  {
   "cell_type": "code",
   "execution_count": null,
   "metadata": {},
   "outputs": [],
   "source": [
    "# The __name__ special variable in Python is used to determine if a Python file is being run as the main program or being imported as a module \n",
    "# into another program.\n",
    "\n",
    "# If a Python file is being executed as the main program, the __name__ variable is set to \"__main__\". If it is being imported as a module into \n",
    "# another program, the __name__ variable is set to the name of the module.\n",
    "\n",
    "# Here's an example to illustrate this:"
   ]
  },
  {
   "cell_type": "code",
   "execution_count": 23,
   "metadata": {},
   "outputs": [
    {
     "name": "stdout",
     "output_type": "stream",
     "text": [
      "This is the main function.\n"
     ]
    }
   ],
   "source": [
    "# File: example.py\n",
    "\n",
    "def main():\n",
    "    print(\"This is the main function.\")\n",
    "\n",
    "if __name__ == \"__main__\":\n",
    "    main()\n"
   ]
  },
  {
   "attachments": {},
   "cell_type": "markdown",
   "metadata": {},
   "source": [
    "If you run the above script by executing python example.py, it will output This is the main function..\n",
    "\n",
    "But, if you import the file example.py as a module into another script, the __name__ variable will not equal \"__main__\" and the main() function will not be called:"
   ]
  },
  {
   "cell_type": "code",
   "execution_count": null,
   "metadata": {},
   "outputs": [],
   "source": [
    "# File: another_script.py\n",
    "import example\n"
   ]
  },
  {
   "cell_type": "code",
   "execution_count": 22,
   "metadata": {},
   "outputs": [
    {
     "name": "stdout",
     "output_type": "stream",
     "text": [
      "hey value of Name is  __main__\n",
      "hey greeting  message\n"
     ]
    }
   ],
   "source": [
    "# what is the use case of __name__ and __main__ in python?\n",
    "\n",
    "# __name__ is a variable \n",
    "\n",
    "def greeting():\n",
    "    print(\"hey greeting  message\")\n",
    "    \n",
    "print(\"hey value of Name is \",__name__)\n",
    "\n",
    "if __name__ ==\"__main__\":\n",
    "    greeting()"
   ]
  },
  {
   "cell_type": "code",
   "execution_count": null,
   "metadata": {},
   "outputs": [],
   "source": []
  }
 ],
 "metadata": {
  "kernelspec": {
   "display_name": "Python 3",
   "language": "python",
   "name": "python3"
  },
  "language_info": {
   "codemirror_mode": {
    "name": "ipython",
    "version": 3
   },
   "file_extension": ".py",
   "mimetype": "text/x-python",
   "name": "python",
   "nbconvert_exporter": "python",
   "pygments_lexer": "ipython3",
   "version": "3.10.9 (tags/v3.10.9:1dd9be6, Dec  6 2022, 20:01:21) [MSC v.1934 64 bit (AMD64)]"
  },
  "orig_nbformat": 4,
  "vscode": {
   "interpreter": {
    "hash": "82a4d8288499301dec019399199fc26037cf825d8893a65b91ef444885beb709"
   }
  }
 },
 "nbformat": 4,
 "nbformat_minor": 2
}
