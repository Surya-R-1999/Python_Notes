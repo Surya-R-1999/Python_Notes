{
 "cells": [
  {
   "attachments": {},
   "cell_type": "markdown",
   "metadata": {},
   "source": [
    "Data Abstraction:\n",
    "-----------------"
   ]
  },
  {
   "attachments": {},
   "cell_type": "markdown",
   "metadata": {},
   "source": [
    "Data abstraction refers to hiding the implementation details of a class and exposing only the necessary information to the user.\n",
    "\n",
    "Example in Python:"
   ]
  },
  {
   "cell_type": "code",
   "execution_count": 3,
   "metadata": {},
   "outputs": [
    {
     "name": "stdout",
     "output_type": "stream",
     "text": [
      "Area: 200\n"
     ]
    }
   ],
   "source": [
    "class Shape:\n",
    "    def __init__(self, x, y):\n",
    "        self.x = x\n",
    "        self.y = y\n",
    "    def area(self):\n",
    "        pass\n",
    "\n",
    "class Rectangle(Shape):\n",
    "    def __init__(self, x, y, width, height):\n",
    "        Shape.__init__(self, x, y)\n",
    "        self.width = width\n",
    "        self.height = height\n",
    "\n",
    "    def area(self):\n",
    "        return self.width * self.height\n",
    "\n",
    "r = Rectangle(0, 0, 10, 20)\n",
    "print(\"Area:\", r.area())\n"
   ]
  },
  {
   "attachments": {},
   "cell_type": "markdown",
   "metadata": {},
   "source": [
    "Here, the Shape class is abstract, i.e., it only defines the interface (area method) but does not provide any implementation. The Rectangle class extends the Shape class and provides the implementation for area method."
   ]
  },
  {
   "attachments": {},
   "cell_type": "markdown",
   "metadata": {},
   "source": [
    "Is Abstract keyword used in abstract class in python?\n",
    "-------------------------------------------------------\n",
    "No, abstract class in Python is not defined using the 'abstract' keyword. Instead, it is achieved through the abc (Abstract Base Class) module and by declaring methods with the @abstractmethod decorator."
   ]
  },
  {
   "attachments": {},
   "cell_type": "markdown",
   "metadata": {},
   "source": [
    "In Python, an abstract class can be implemented using the abc (Abstract Base Class) module. An abstract class cannot be instantiated, and its methods must be overridden in its subclass.\n",
    "\n",
    "Example:"
   ]
  },
  {
   "cell_type": "code",
   "execution_count": 4,
   "metadata": {},
   "outputs": [
    {
     "name": "stdout",
     "output_type": "stream",
     "text": [
      "Area: 200\n"
     ]
    }
   ],
   "source": [
    "import abc\n",
    "\n",
    "class Shape(metaclass=abc.ABCMeta):\n",
    "    @abc.abstractmethod\n",
    "    def area(self):\n",
    "        pass\n",
    "\n",
    "class Rectangle(Shape):\n",
    "    def __init__(self, width, height):\n",
    "        self.width = width\n",
    "        self.height = height\n",
    "\n",
    "    def area(self):\n",
    "        return self.width * self.height\n",
    "\n",
    "r = Rectangle(10, 20)\n",
    "print(\"Area:\", r.area())\n"
   ]
  },
  {
   "cell_type": "code",
   "execution_count": null,
   "metadata": {},
   "outputs": [
    {
     "name": "stdout",
     "output_type": "stream",
     "text": [
      "This is a new marketing department\n",
      "2000\n"
     ]
    }
   ],
   "source": [
    "class Department:\n",
    "    salary = 10000\n",
    "\n",
    "    def departmentInfo(Self):\n",
    "        print(\"hey we are talking of department class\")\n",
    "    \n",
    "class Marketing_department(Department):\n",
    "    salary = 2000\n",
    "\n",
    "    def departmentInfo(Self):\n",
    "        print(\"This is a new marketing department\")\n",
    "\n",
    "md1 = Marketing_department()\n",
    "md1.departmentInfo()\n",
    "print(md1.salary)"
   ]
  },
  {
   "cell_type": "code",
   "execution_count": null,
   "metadata": {},
   "outputs": [
    {
     "name": "stdout",
     "output_type": "stream",
     "text": [
      "2000\n"
     ]
    }
   ],
   "source": [
    "class Department:\n",
    "    salary = 10000\n",
    "\n",
    "    def departmentInfo(Self):\n",
    "        pass\n",
    "    \n",
    "class Marketing_department(Department):\n",
    "    salary = 2000\n",
    "\n",
    "\n",
    "\n",
    "md1 = Marketing_department()\n",
    "md1.departmentInfo()\n",
    "print(md1.salary)"
   ]
  },
  {
   "attachments": {},
   "cell_type": "markdown",
   "metadata": {},
   "source": [
    "Here, the Shape class is defined as an abstract class by using the abc.ABCMeta metaclass. The area method is defined as an abstract method using the abc.abstractmethod decorator. The Rectangle class extends the Shape class and provides the implementation for the area method, thus making it a concrete class."
   ]
  },
  {
   "attachments": {},
   "cell_type": "markdown",
   "metadata": {},
   "source": [
    "No, abstract classes cannot have objects in Python. An abstract class is a blueprint for other classes and it cannot be instantiated on its own. It serves as a base class for other concrete classes to inherit from. In other words, an abstract class is meant to be subclassed, and its methods must be overridden in its subclasses to be used. If an abstract class is instantiated, a TypeError will be raised."
   ]
  },
  {
   "cell_type": "code",
   "execution_count": 7,
   "metadata": {},
   "outputs": [
    {
     "name": "stdout",
     "output_type": "stream",
     "text": [
      "hi user\n",
      "2000\n"
     ]
    }
   ],
   "source": [
    "from abc import ABC, abstractmethod\n",
    "\n",
    "class Department(ABC):  #concrete class or abstract class\n",
    "    salary = 10000\n",
    "\n",
    "    @abstractmethod  #decorator\n",
    "    def departmentInfo(self):\n",
    "        pass\n",
    "    \n",
    "class Marketing_department(Department):\n",
    "    salary = 2000\n",
    "\n",
    "    def departmentInfo(self):\n",
    "        print(\"hi user\")\n",
    "\n",
    "# Abstract class cannbot be instantiated.\n",
    "# if the child class didn't implement the definition for parent class abstract method, it will throw an error.\n",
    "\n",
    "md1 = Marketing_department()\n",
    "md1.departmentInfo()\n",
    "print(md1.salary)"
   ]
  },
  {
   "attachments": {},
   "cell_type": "markdown",
   "metadata": {},
   "source": [
    "Yes, an abstract class in Python can have non-abstract methods, along with abstract methods. Non-abstract methods in an abstract class provide a default implementation that can be reused in subclasses. Abstract methods, on the other hand, must be overridden in subclasses.\n",
    "\n",
    "Here's an example:"
   ]
  },
  {
   "cell_type": "code",
   "execution_count": 8,
   "metadata": {},
   "outputs": [
    {
     "name": "stdout",
     "output_type": "stream",
     "text": [
      "Area: 200\n",
      "This is a Shape.\n"
     ]
    }
   ],
   "source": [
    "import abc\n",
    "\n",
    "class Shape(metaclass=abc.ABCMeta):\n",
    "    @abc.abstractmethod\n",
    "    def area(self):\n",
    "        pass\n",
    "    \n",
    "    def display(self):\n",
    "        print(\"This is a Shape.\")\n",
    "\n",
    "class Rectangle(Shape):\n",
    "    def __init__(self, width, height):\n",
    "        self.width = width\n",
    "        self.height = height\n",
    "\n",
    "    def area(self):\n",
    "        return self.width * self.height\n",
    "\n",
    "r = Rectangle(10, 20)\n",
    "print(\"Area:\", r.area())\n",
    "r.display()\n"
   ]
  },
  {
   "attachments": {},
   "cell_type": "markdown",
   "metadata": {},
   "source": [
    "In this example, the Shape class has two methods, area and display. The area method is abstract and must be overridden in its subclasses, while the display method provides a default implementation. The Rectangle class extends the Shape class and overrides the area method, but it can also reuse the display method provided by the Shape class."
   ]
  },
  {
   "attachments": {},
   "cell_type": "markdown",
   "metadata": {},
   "source": [
    "Can abstract class have multiple abstract methods?\n",
    "-------------------------------------------------"
   ]
  },
  {
   "attachments": {},
   "cell_type": "markdown",
   "metadata": {},
   "source": [
    "Yes, an abstract class in Python can have multiple abstract methods. Abstract methods are methods that are declared but not implemented in the abstract class. They must be overridden in the concrete subclasses that extend the abstract class."
   ]
  },
  {
   "cell_type": "code",
   "execution_count": 9,
   "metadata": {},
   "outputs": [
    {
     "name": "stdout",
     "output_type": "stream",
     "text": [
      "Area: 200\n",
      "Perimeter: 60\n"
     ]
    }
   ],
   "source": [
    "import abc\n",
    "\n",
    "class Shape(metaclass=abc.ABCMeta):\n",
    "    @abc.abstractmethod\n",
    "    def area(self):\n",
    "        pass\n",
    "    \n",
    "    @abc.abstractmethod\n",
    "    def perimeter(self):\n",
    "        pass\n",
    "\n",
    "class Rectangle(Shape):\n",
    "    def __init__(self, width, height):\n",
    "        self.width = width\n",
    "        self.height = height\n",
    "\n",
    "    def area(self):\n",
    "        return self.width * self.height\n",
    "    \n",
    "    def perimeter(self):\n",
    "        return 2 * (self.width + self.height)\n",
    "\n",
    "r = Rectangle(10, 20)\n",
    "print(\"Area:\", r.area())\n",
    "print(\"Perimeter:\", r.perimeter())\n"
   ]
  },
  {
   "attachments": {},
   "cell_type": "markdown",
   "metadata": {},
   "source": [
    "In this example, the Shape class has two abstract methods, area and perimeter. Both methods must be overridden in the concrete subclass Rectangle in order to be used. The Rectangle class provides the implementation for both abstract methods"
   ]
  },
  {
   "attachments": {},
   "cell_type": "markdown",
   "metadata": {},
   "source": [
    "Can "
   ]
  },
  {
   "cell_type": "code",
   "execution_count": 2,
   "metadata": {},
   "outputs": [
    {
     "name": "stdout",
     "output_type": "stream",
     "text": [
      "hey hr\n",
      "test in hr\n"
     ]
    }
   ],
   "source": [
    "from abc import ABC, abstractmethod\n",
    "\n",
    "class Department(ABC):  #concrete class or abstract class\n",
    "    salary = 10000\n",
    "\n",
    "    @abstractmethod  #decorator\n",
    "    def departmentInfo(self):\n",
    "        pass\n",
    "\n",
    "    def test(self):\n",
    "        print(\"tested\")\n",
    "    \n",
    "class Marketing_department(Department):\n",
    "    salary = 2000\n",
    "\n",
    "    def departmentInfo(self):\n",
    "        print(\"hi user\")\n",
    "    \n",
    "    def test(self):\n",
    "        pass\n",
    "\n",
    "class Hr_department(Marketing_department):\n",
    "    \n",
    "    def hrinfo(self):\n",
    "        print(\"hey hr\")\n",
    "\n",
    "    def test(Self):\n",
    "        print(\"test in hr\")\n",
    "\n",
    "hr1 = Hr_department()\n",
    "hr1.hrinfo()\n",
    "hr1.test()\n",
    "\n",
    "# Abstract class cannbot be instantiated.\n",
    "# if the child class didn't implement the definition for parent class abstract method, it will throw an error.\n",
    "\n",
    "# md1 = Marketing_department()\n",
    "# md1.departmentInfo()\n",
    "# print(md1.salary)"
   ]
  },
  {
   "attachments": {},
   "cell_type": "markdown",
   "metadata": {},
   "source": [
    "Here the departmentInfo is considered as abstract method in departments table, and if the child class marketing_department doesn't implement \n",
    "the fn definition of departmentInfo in parent class it will be considered as abstract class and the grand child class hr_department should implement the abstract method definition. So the department and marketing_department can't be instantiated.\n",
    "\n",
    "Also if the abstract class doesn't have any fn def of any method it is not considered as abstract method. It has to be declared via a decorator. "
   ]
  },
  {
   "attachments": {},
   "cell_type": "markdown",
   "metadata": {},
   "source": [
    "Generators\n",
    "class decorators and static decorators"
   ]
  }
 ],
 "metadata": {
  "kernelspec": {
   "display_name": "Python 3",
   "language": "python",
   "name": "python3"
  },
  "language_info": {
   "codemirror_mode": {
    "name": "ipython",
    "version": 3
   },
   "file_extension": ".py",
   "mimetype": "text/x-python",
   "name": "python",
   "nbconvert_exporter": "python",
   "pygments_lexer": "ipython3",
   "version": "3.10.9 (tags/v3.10.9:1dd9be6, Dec  6 2022, 20:01:21) [MSC v.1934 64 bit (AMD64)]"
  },
  "orig_nbformat": 4,
  "vscode": {
   "interpreter": {
    "hash": "82a4d8288499301dec019399199fc26037cf825d8893a65b91ef444885beb709"
   }
  }
 },
 "nbformat": 4,
 "nbformat_minor": 2
}
