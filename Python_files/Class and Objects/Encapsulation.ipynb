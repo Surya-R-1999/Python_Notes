{
 "cells": [
  {
   "attachments": {},
   "cell_type": "markdown",
   "metadata": {},
   "source": [
    "Encapsulation (Wrapping data and method together)\n",
    "--------------"
   ]
  },
  {
   "attachments": {},
   "cell_type": "markdown",
   "metadata": {},
   "source": [
    "Encapsulation in Python is the mechanism of hiding the internal details of an object and exposing a public interface for the object's users. It allows objects to maintain their internal state and behavior, while providing a controlled way for other objects to interact with them.\n",
    "\n",
    "Here's an example of encapsulation in Python:"
   ]
  },
  {
   "cell_type": "code",
   "execution_count": 1,
   "metadata": {},
   "outputs": [
    {
     "name": "stdout",
     "output_type": "stream",
     "text": [
      "Initial balance: 100\n",
      "Balance after deposit: 150\n",
      "Balance after withdrawal: 75\n"
     ]
    }
   ],
   "source": [
    "class BankAccount:\n",
    "    def __init__(self, balance=0):\n",
    "        self.__balance = balance\n",
    "\n",
    "    def deposit(self, amount):\n",
    "        self.__balance += amount\n",
    "\n",
    "    def withdraw(self, amount):\n",
    "        if self.__balance >= amount:\n",
    "            self.__balance -= amount\n",
    "        else:\n",
    "            print(\"Insufficient funds.\")\n",
    "\n",
    "    def get_balance(self):\n",
    "        return self.__balance\n",
    "\n",
    "    def set_balance(self, balance):\n",
    "        if balance >= 0:\n",
    "            self.__balance = balance\n",
    "        else:\n",
    "            print(\"Balance cannot be negative.\")\n",
    "\n",
    "account = BankAccount(100)\n",
    "print(\"Initial balance:\", account.get_balance())\n",
    "\n",
    "account.deposit(50)\n",
    "print(\"Balance after deposit:\", account.get_balance())\n",
    "\n",
    "account.withdraw(75)\n",
    "print(\"Balance after withdrawal:\", account.get_balance())\n",
    "\n",
    "account.set_balance(-50)\n",
    "print(\"Balance after setting:\", account.get_balance())\n"
   ]
  },
  {
   "attachments": {},
   "cell_type": "markdown",
   "metadata": {},
   "source": [
    "In this example, the BankAccount class is used to model a bank account. The balance of the account is stored as a private variable __balance. The methods deposit, withdraw, and get_balance provide a public interface for users to interact with the account, but they do not expose the internal details of how the balance is being maintained.\n",
    "\n",
    "The get_balance method provides read-only access to the balance, while the set_balance method provides write access to the balance but with some restrictions (balance cannot be negative). By encapsulating the internal details of the bank account and controlling access to the balance through getters and setters, we ensure that the internal state of the account is only accessible and modifiable through the provided public methods. This provides a layer of protection and makes the code more maintainable and less prone to bugs."
   ]
  },
  {
   "attachments": {},
   "cell_type": "markdown",
   "metadata": {},
   "source": [
    "Data Modifiers:  (Python doesn't support access modifiers), so it uses notations.\n",
    "---------------"
   ]
  },
  {
   "attachments": {},
   "cell_type": "markdown",
   "metadata": {},
   "source": [
    "In Python, data modifiers are used to control the accessibility and level of protection of class attributes. There are three main data modifiers in Python: public, private, and protected.\n",
    "\n",
    "By convention, in Python, data modifiers are indicated by the naming of the attributes, rather than explicit access controls.\n",
    "\n",
    "Here's an example of data modifiers in Python:"
   ]
  },
  {
   "cell_type": "code",
   "execution_count": 14,
   "metadata": {},
   "outputs": [
    {
     "name": "stdout",
     "output_type": "stream",
     "text": [
      "Public balance: 100\n",
      "Protected balance: 100\n",
      "None\n"
     ]
    }
   ],
   "source": [
    "class BankAccount:\n",
    "    def __init__(self, balance=0):\n",
    "        self.balance = balance   # public\n",
    "\n",
    "    def deposit(self, amount):\n",
    "        self.balance += amount\n",
    "\n",
    "    def withdraw(self, amount):\n",
    "        if self.balance >= amount:\n",
    "            self.balance -= amount\n",
    "        else:\n",
    "            print(\"Insufficient funds.\")\n",
    "\n",
    "    def _get_balance(self):  # protected\n",
    "        return self.balance\n",
    "\n",
    "    def __check_balance(self):  # private\n",
    "        if self.balance < 0:\n",
    "            print(\"Balance is negative.\")\n",
    "\n",
    "account = BankAccount(100)\n",
    "\n",
    "# Public data modifier\n",
    "print(\"Public balance:\", account.balance)\n",
    "\n",
    "# Protected data modifier\n",
    "print(\"Protected balance:\", account._get_balance())\n",
    "\n",
    "# Private data modifier\n",
    "# This will raise an AttributeError because it's not accessible from outside the class\n",
    "# print(\"Private balance:\", account.__check_balance())\n",
    "print(account._BankAccount__check_balance()) # \"Private method\" can be accessed using name mangling."
   ]
  },
  {
   "attachments": {},
   "cell_type": "markdown",
   "metadata": {},
   "source": [
    "In Python, Encapsulation is achieved through naming conventions such as using:\n",
    "\n",
    "Single leading underscore (e.g. _private_var): This is a weak internal use indicator, meaning it's not meant to be accessed from outside the class, but it can still be accessed if needed. Example:"
   ]
  },
  {
   "cell_type": "code",
   "execution_count": 11,
   "metadata": {},
   "outputs": [
    {
     "name": "stdout",
     "output_type": "stream",
     "text": [
      "42\n",
      "Private method\n"
     ]
    }
   ],
   "source": [
    "class EncapsulationExample:\n",
    "    def __init__(self):\n",
    "        self._private_var = 42\n",
    "\n",
    "    def _private_method(self):\n",
    "        print(\"Private method\")\n",
    "\n",
    "obj = EncapsulationExample()\n",
    "# Accessing private variable\n",
    "print(obj._private_var) # 42\n",
    "# Calling private method\n",
    "obj._private_method() # \"Private method\"\n"
   ]
  },
  {
   "attachments": {},
   "cell_type": "markdown",
   "metadata": {},
   "source": [
    "Double leading underscore (e.g. __private_var): This triggers name mangling to make it harder to access from outside the class. Example:"
   ]
  },
  {
   "cell_type": "code",
   "execution_count": 12,
   "metadata": {},
   "outputs": [
    {
     "name": "stdout",
     "output_type": "stream",
     "text": [
      "42\n",
      "Private method\n"
     ]
    }
   ],
   "source": [
    "class EncapsulationExample:\n",
    "    def __init__(self):\n",
    "        self.__private_var = 42\n",
    "\n",
    "    def __private_method(self):\n",
    "        print(\"Private method\")\n",
    "\n",
    "obj = EncapsulationExample()\n",
    "# Accessing private variable with name mangling\n",
    "# process where the compiler puts _classname before accessing attributes or methods is referred as name mangling.\n",
    "print(obj._EncapsulationExample__private_var) # 42\n",
    "# Calling private method with name mangling\n",
    "obj._EncapsulationExample__private_method() # \"Private method\"\n"
   ]
  },
  {
   "cell_type": "code",
   "execution_count": 10,
   "metadata": {},
   "outputs": [
    {
     "name": "stdout",
     "output_type": "stream",
     "text": [
      "1000\n"
     ]
    }
   ],
   "source": [
    "class Trainer:\n",
    "    __salary = 1000\n",
    "\n",
    "class Learner(Trainer):\n",
    "    newPackage = 1700\n",
    "\n",
    "# L1 = Learner()\n",
    "# print(L1._salary,L1._salary)\n",
    "\n",
    "t1 = Trainer()\n",
    "print(t1._Trainer__salary)\n"
   ]
  },
  {
   "attachments": {},
   "cell_type": "markdown",
   "metadata": {},
   "source": [
    "namespace and identifiers:\n",
    "---------------------------"
   ]
  },
  {
   "attachments": {},
   "cell_type": "markdown",
   "metadata": {},
   "source": [
    "Here's an example of a namespace and identifiers in Python:"
   ]
  },
  {
   "cell_type": "code",
   "execution_count": 16,
   "metadata": {},
   "outputs": [
    {
     "name": "stdout",
     "output_type": "stream",
     "text": [
      "__main__\n",
      "10\n"
     ]
    }
   ],
   "source": [
    "print(__name__)\n",
    "def print_x():\n",
    "    print(x)\n",
    "\n",
    "x = 10\n",
    "\n",
    "if __name__ == \"__main__\":\n",
    "    print_x()\n"
   ]
  },
  {
   "attachments": {},
   "cell_type": "markdown",
   "metadata": {},
   "source": [
    "In this example, the print_x function and the x variable are identifiers. Python does not have a traditional namespace mechanism like other programming languages, but you can use modules to achieve a similar effect. Each module in Python can be thought of as its own namespace, providing a way to organize code and prevent naming collisions.\n",
    "\n",
    "In this example, the print_x function and x variable can be considered to be in the same namespace, since they are both defined within the same module.\n",
    "\n",
    "\n",
    "\n"
   ]
  }
 ],
 "metadata": {
  "kernelspec": {
   "display_name": "Python 3",
   "language": "python",
   "name": "python3"
  },
  "language_info": {
   "codemirror_mode": {
    "name": "ipython",
    "version": 3
   },
   "file_extension": ".py",
   "mimetype": "text/x-python",
   "name": "python",
   "nbconvert_exporter": "python",
   "pygments_lexer": "ipython3",
   "version": "3.10.9 (tags/v3.10.9:1dd9be6, Dec  6 2022, 20:01:21) [MSC v.1934 64 bit (AMD64)]"
  },
  "orig_nbformat": 4,
  "vscode": {
   "interpreter": {
    "hash": "82a4d8288499301dec019399199fc26037cf825d8893a65b91ef444885beb709"
   }
  }
 },
 "nbformat": 4,
 "nbformat_minor": 2
}
