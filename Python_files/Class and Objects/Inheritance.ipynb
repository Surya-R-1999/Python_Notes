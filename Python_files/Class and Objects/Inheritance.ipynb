{
 "cells": [
  {
   "attachments": {},
   "cell_type": "markdown",
   "metadata": {},
   "source": [
    "MRO (Method Resolution Order) \n",
    "-----------------------------"
   ]
  },
  {
   "attachments": {},
   "cell_type": "markdown",
   "metadata": {},
   "source": [
    "The Method Resolution Order (MRO) in Python determines the order in which the base classes are searched for resolving a method. It is defined by the C3 linearization algorithm, which follows the Depth First Left-to-Right (DFLR) approach to resolve conflicts in method resolution. The MRO of a class is represented by the mro() method, which returns a tuple of classes in the order they will be searched. In case of multiple inheritance, it ensures that the derived class always has the most derived version of the method and prevents the ambiguity in the inheritance hierarchy."
   ]
  },
  {
   "cell_type": "code",
   "execution_count": 2,
   "metadata": {},
   "outputs": [
    {
     "name": "stdout",
     "output_type": "stream",
     "text": [
      "Method in class B\n",
      "None\n",
      "[<class '__main__.D'>, <class '__main__.B'>, <class '__main__.C'>, <class '__main__.A'>, <class 'object'>]\n"
     ]
    }
   ],
   "source": [
    "class A:\n",
    "    def do_something(self):\n",
    "        print(\"Method in class A\")\n",
    "\n",
    "class B(A):\n",
    "    def do_something(self):\n",
    "        print(\"Method in class B\")\n",
    "\n",
    "class C(A):\n",
    "    def do_something(self):\n",
    "        print(\"Method in class C\")\n",
    "\n",
    "class D(B, C):\n",
    "    pass\n",
    "\n",
    "# Create an object of class D\n",
    "d = D()\n",
    "\n",
    "# Call the do_something() method\n",
    "print(d.do_something())\n",
    "\n",
    "# Output: Method in class B\n",
    "\n",
    "# Get the MRO of class D\n",
    "print(D.mro())\n",
    "\n",
    "# Output: [__main__.D, __main__.B, __main__.C, __main__.A, object]\n"
   ]
  },
  {
   "attachments": {},
   "cell_type": "markdown",
   "metadata": {},
   "source": [
    "In the example, class D is derived from both B and C, and B and C are derived from A. When the do_something() method is called on an object of class D, the MRO of D is used to determine the order in which the base classes are searched for the method.\n",
    "\n",
    "The MRO of class D is [D, B, C, A, object], which means that the do_something() method of class B will be called first, since it appears before C in the MRO."
   ]
  }
 ],
 "metadata": {
  "kernelspec": {
   "display_name": "Python 3",
   "language": "python",
   "name": "python3"
  },
  "language_info": {
   "codemirror_mode": {
    "name": "ipython",
    "version": 3
   },
   "file_extension": ".py",
   "mimetype": "text/x-python",
   "name": "python",
   "nbconvert_exporter": "python",
   "pygments_lexer": "ipython3",
   "version": "3.10.9 (tags/v3.10.9:1dd9be6, Dec  6 2022, 20:01:21) [MSC v.1934 64 bit (AMD64)]"
  },
  "orig_nbformat": 4,
  "vscode": {
   "interpreter": {
    "hash": "82a4d8288499301dec019399199fc26037cf825d8893a65b91ef444885beb709"
   }
  }
 },
 "nbformat": 4,
 "nbformat_minor": 2
}
