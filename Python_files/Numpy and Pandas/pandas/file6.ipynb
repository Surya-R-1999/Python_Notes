{
 "cells": [
  {
   "cell_type": "code",
   "execution_count": 1,
   "metadata": {},
   "outputs": [],
   "source": [
    "import pandas as pd"
   ]
  },
  {
   "cell_type": "code",
   "execution_count": 2,
   "metadata": {},
   "outputs": [],
   "source": [
    "import datetime as dt"
   ]
  },
  {
   "cell_type": "code",
   "execution_count": 8,
   "metadata": {},
   "outputs": [],
   "source": [
    "str(dt.datetime(2011,9,21))\n",
    "time1 = dt.datetime(2011,9,21)"
   ]
  },
  {
   "cell_type": "code",
   "execution_count": 9,
   "metadata": {},
   "outputs": [
    {
     "data": {
      "text/plain": [
       "9"
      ]
     },
     "execution_count": 9,
     "metadata": {},
     "output_type": "execute_result"
    }
   ],
   "source": [
    "time1.month"
   ]
  },
  {
   "cell_type": "code",
   "execution_count": 10,
   "metadata": {},
   "outputs": [
    {
     "data": {
      "text/plain": [
       "Timestamp('2012-10-22 00:00:00')"
      ]
     },
     "execution_count": 10,
     "metadata": {},
     "output_type": "execute_result"
    }
   ],
   "source": [
    "pd.Timestamp('2012-Oct-22')"
   ]
  },
  {
   "cell_type": "code",
   "execution_count": 14,
   "metadata": {},
   "outputs": [
    {
     "data": {
      "text/plain": [
       "DatetimeIndex(['2023-02-01', '2023-02-02', '2023-02-03', '2023-02-06',\n",
       "               '2023-02-07', '2023-02-08', '2023-02-09', '2023-02-10',\n",
       "               '2023-02-13', '2023-02-14', '2023-02-15', '2023-02-16',\n",
       "               '2023-02-17', '2023-02-20', '2023-02-21', '2023-02-22',\n",
       "               '2023-02-23', '2023-02-24', '2023-02-27', '2023-02-28'],\n",
       "              dtype='datetime64[ns]', freq='B')"
      ]
     },
     "execution_count": 14,
     "metadata": {},
     "output_type": "execute_result"
    }
   ],
   "source": [
    "pd.date_range(start='2023-02-01', end='2023-02-28' ,freq='B')"
   ]
  },
  {
   "cell_type": "code",
   "execution_count": 16,
   "metadata": {},
   "outputs": [
    {
     "data": {
      "text/plain": [
       "DatetimeIndex(['2023-02-01', '2023-02-16'], dtype='datetime64[ns]', freq='15D')"
      ]
     },
     "execution_count": 16,
     "metadata": {},
     "output_type": "execute_result"
    }
   ],
   "source": [
    "pd.date_range(start='2023-02-01', end='2023-02-26' ,freq='15D')"
   ]
  },
  {
   "cell_type": "code",
   "execution_count": 21,
   "metadata": {},
   "outputs": [],
   "source": [
    "dateSeries = pd.Series(pd.date_range(start='2023-01-01', end='2023-03-26' ,freq='15D'))"
   ]
  },
  {
   "cell_type": "code",
   "execution_count": 22,
   "metadata": {},
   "outputs": [
    {
     "data": {
      "text/plain": [
       "0   2023-01-01\n",
       "1   2023-01-16\n",
       "2   2023-01-31\n",
       "3   2023-02-15\n",
       "4   2023-03-02\n",
       "5   2023-03-17\n",
       "dtype: datetime64[ns]"
      ]
     },
     "execution_count": 22,
     "metadata": {},
     "output_type": "execute_result"
    }
   ],
   "source": [
    "dateSeries"
   ]
  },
  {
   "cell_type": "code",
   "execution_count": 23,
   "metadata": {},
   "outputs": [
    {
     "data": {
      "text/plain": [
       "0     True\n",
       "1    False\n",
       "2    False\n",
       "3    False\n",
       "4    False\n",
       "5    False\n",
       "dtype: bool"
      ]
     },
     "execution_count": 23,
     "metadata": {},
     "output_type": "execute_result"
    }
   ],
   "source": [
    "dateSeries.dt.is_quarter_start"
   ]
  },
  {
   "attachments": {},
   "cell_type": "markdown",
   "metadata": {},
   "source": [
    "pip install pandas-datareader"
   ]
  },
  {
   "cell_type": "code",
   "execution_count": 24,
   "metadata": {},
   "outputs": [],
   "source": [
    "from pandas_datareader import data"
   ]
  },
  {
   "cell_type": "code",
   "execution_count": 25,
   "metadata": {},
   "outputs": [],
   "source": [
    "stocks = data.DataReader(name = \"MSFT\",data_source=\"stooq\",start=\"2022-01-01\",end=\"2023-01-01\")"
   ]
  },
  {
   "cell_type": "code",
   "execution_count": 28,
   "metadata": {},
   "outputs": [
    {
     "data": {
      "text/html": [
       "<div>\n",
       "<style scoped>\n",
       "    .dataframe tbody tr th:only-of-type {\n",
       "        vertical-align: middle;\n",
       "    }\n",
       "\n",
       "    .dataframe tbody tr th {\n",
       "        vertical-align: top;\n",
       "    }\n",
       "\n",
       "    .dataframe thead th {\n",
       "        text-align: right;\n",
       "    }\n",
       "</style>\n",
       "<table border=\"1\" class=\"dataframe\">\n",
       "  <thead>\n",
       "    <tr style=\"text-align: right;\">\n",
       "      <th></th>\n",
       "      <th>Open</th>\n",
       "      <th>High</th>\n",
       "      <th>Low</th>\n",
       "      <th>Close</th>\n",
       "      <th>Volume</th>\n",
       "    </tr>\n",
       "    <tr>\n",
       "      <th>Date</th>\n",
       "      <th></th>\n",
       "      <th></th>\n",
       "      <th></th>\n",
       "      <th></th>\n",
       "      <th></th>\n",
       "    </tr>\n",
       "  </thead>\n",
       "  <tbody>\n",
       "    <tr>\n",
       "      <th>2022-12-30</th>\n",
       "      <td>238.210</td>\n",
       "      <td>239.960</td>\n",
       "      <td>236.6600</td>\n",
       "      <td>239.820</td>\n",
       "      <td>2.193847e+07</td>\n",
       "    </tr>\n",
       "    <tr>\n",
       "      <th>2022-12-29</th>\n",
       "      <td>235.650</td>\n",
       "      <td>241.920</td>\n",
       "      <td>235.6500</td>\n",
       "      <td>241.010</td>\n",
       "      <td>1.977069e+07</td>\n",
       "    </tr>\n",
       "    <tr>\n",
       "      <th>2022-12-28</th>\n",
       "      <td>236.890</td>\n",
       "      <td>239.720</td>\n",
       "      <td>234.1700</td>\n",
       "      <td>234.530</td>\n",
       "      <td>1.745710e+07</td>\n",
       "    </tr>\n",
       "    <tr>\n",
       "      <th>2022-12-27</th>\n",
       "      <td>238.700</td>\n",
       "      <td>238.930</td>\n",
       "      <td>235.8300</td>\n",
       "      <td>236.960</td>\n",
       "      <td>1.668865e+07</td>\n",
       "    </tr>\n",
       "    <tr>\n",
       "      <th>2022-12-23</th>\n",
       "      <td>236.110</td>\n",
       "      <td>238.870</td>\n",
       "      <td>233.9428</td>\n",
       "      <td>238.730</td>\n",
       "      <td>2.120698e+07</td>\n",
       "    </tr>\n",
       "    <tr>\n",
       "      <th>...</th>\n",
       "      <td>...</td>\n",
       "      <td>...</td>\n",
       "      <td>...</td>\n",
       "      <td>...</td>\n",
       "      <td>...</td>\n",
       "    </tr>\n",
       "    <tr>\n",
       "      <th>2022-01-07</th>\n",
       "      <td>311.233</td>\n",
       "      <td>313.565</td>\n",
       "      <td>307.2110</td>\n",
       "      <td>311.123</td>\n",
       "      <td>3.302661e+07</td>\n",
       "    </tr>\n",
       "    <tr>\n",
       "      <th>2022-01-06</th>\n",
       "      <td>310.240</td>\n",
       "      <td>315.739</td>\n",
       "      <td>308.6010</td>\n",
       "      <td>310.964</td>\n",
       "      <td>4.001764e+07</td>\n",
       "    </tr>\n",
       "    <tr>\n",
       "      <th>2022-01-05</th>\n",
       "      <td>322.837</td>\n",
       "      <td>323.046</td>\n",
       "      <td>313.0490</td>\n",
       "      <td>313.446</td>\n",
       "      <td>4.042964e+07</td>\n",
       "    </tr>\n",
       "    <tr>\n",
       "      <th>2022-01-04</th>\n",
       "      <td>331.723</td>\n",
       "      <td>332.090</td>\n",
       "      <td>323.0950</td>\n",
       "      <td>325.954</td>\n",
       "      <td>3.298047e+07</td>\n",
       "    </tr>\n",
       "    <tr>\n",
       "      <th>2022-01-03</th>\n",
       "      <td>332.239</td>\n",
       "      <td>334.859</td>\n",
       "      <td>326.7190</td>\n",
       "      <td>331.643</td>\n",
       "      <td>2.918898e+07</td>\n",
       "    </tr>\n",
       "  </tbody>\n",
       "</table>\n",
       "<p>251 rows × 5 columns</p>\n",
       "</div>"
      ],
      "text/plain": [
       "               Open     High       Low    Close        Volume\n",
       "Date                                                         \n",
       "2022-12-30  238.210  239.960  236.6600  239.820  2.193847e+07\n",
       "2022-12-29  235.650  241.920  235.6500  241.010  1.977069e+07\n",
       "2022-12-28  236.890  239.720  234.1700  234.530  1.745710e+07\n",
       "2022-12-27  238.700  238.930  235.8300  236.960  1.668865e+07\n",
       "2022-12-23  236.110  238.870  233.9428  238.730  2.120698e+07\n",
       "...             ...      ...       ...      ...           ...\n",
       "2022-01-07  311.233  313.565  307.2110  311.123  3.302661e+07\n",
       "2022-01-06  310.240  315.739  308.6010  310.964  4.001764e+07\n",
       "2022-01-05  322.837  323.046  313.0490  313.446  4.042964e+07\n",
       "2022-01-04  331.723  332.090  323.0950  325.954  3.298047e+07\n",
       "2022-01-03  332.239  334.859  326.7190  331.643  2.918898e+07\n",
       "\n",
       "[251 rows x 5 columns]"
      ]
     },
     "execution_count": 28,
     "metadata": {},
     "output_type": "execute_result"
    }
   ],
   "source": [
    "stocks"
   ]
  },
  {
   "cell_type": "code",
   "execution_count": 26,
   "metadata": {},
   "outputs": [
    {
     "data": {
      "text/plain": [
       "array([[2.38210000e+02, 2.39960000e+02, 2.36660000e+02, 2.39820000e+02,\n",
       "        2.19384720e+07],\n",
       "       [2.35650000e+02, 2.41920000e+02, 2.35650000e+02, 2.41010000e+02,\n",
       "        1.97706930e+07],\n",
       "       [2.36890000e+02, 2.39720000e+02, 2.34170000e+02, 2.34530000e+02,\n",
       "        1.74571040e+07],\n",
       "       ...,\n",
       "       [3.22837000e+02, 3.23046000e+02, 3.13049000e+02, 3.13446000e+02,\n",
       "        4.04296424e+07],\n",
       "       [3.31723000e+02, 3.32090000e+02, 3.23095000e+02, 3.25954000e+02,\n",
       "        3.29804700e+07],\n",
       "       [3.32239000e+02, 3.34859000e+02, 3.26719000e+02, 3.31643000e+02,\n",
       "        2.91889798e+07]])"
      ]
     },
     "execution_count": 26,
     "metadata": {},
     "output_type": "execute_result"
    }
   ],
   "source": [
    "stocks.values"
   ]
  },
  {
   "cell_type": "code",
   "execution_count": 27,
   "metadata": {},
   "outputs": [
    {
     "data": {
      "text/plain": [
       "DatetimeIndex(['2022-12-30', '2022-12-29', '2022-12-28', '2022-12-27',\n",
       "               '2022-12-23', '2022-12-22', '2022-12-21', '2022-12-20',\n",
       "               '2022-12-19', '2022-12-16',\n",
       "               ...\n",
       "               '2022-01-14', '2022-01-13', '2022-01-12', '2022-01-11',\n",
       "               '2022-01-10', '2022-01-07', '2022-01-06', '2022-01-05',\n",
       "               '2022-01-04', '2022-01-03'],\n",
       "              dtype='datetime64[ns]', name='Date', length=251, freq=None)"
      ]
     },
     "execution_count": 27,
     "metadata": {},
     "output_type": "execute_result"
    }
   ],
   "source": [
    "stocks.index"
   ]
  },
  {
   "attachments": {},
   "cell_type": "markdown",
   "metadata": {},
   "source": [
    "Find out the total amount of volumes of shares that has been traded from monday to Wednesday.\n",
    "\n",
    "Get the highest value, of his stock which has been placed in each year.\n",
    "\n",
    "Find the minimum closing value of each quarter of the year 2032.\n",
    " "
   ]
  },
  {
   "cell_type": "code",
   "execution_count": 29,
   "metadata": {},
   "outputs": [
    {
     "data": {
      "text/plain": [
       "Timedelta('-2 days +00:00:00')"
      ]
     },
     "execution_count": 29,
     "metadata": {},
     "output_type": "execute_result"
    }
   ],
   "source": [
    "time1 = pd.Timestamp('2022-02-15')\n",
    "\n",
    "time2 = pd.Timestamp('2022-02-17')\n",
    "\n",
    "time1 - time2"
   ]
  }
 ],
 "metadata": {
  "kernelspec": {
   "display_name": "Python 3",
   "language": "python",
   "name": "python3"
  },
  "language_info": {
   "codemirror_mode": {
    "name": "ipython",
    "version": 3
   },
   "file_extension": ".py",
   "mimetype": "text/x-python",
   "name": "python",
   "nbconvert_exporter": "python",
   "pygments_lexer": "ipython3",
   "version": "3.10.9"
  },
  "orig_nbformat": 4,
  "vscode": {
   "interpreter": {
    "hash": "82a4d8288499301dec019399199fc26037cf825d8893a65b91ef444885beb709"
   }
  }
 },
 "nbformat": 4,
 "nbformat_minor": 2
}
