{
 "cells": [
  {
   "cell_type": "code",
   "execution_count": 2,
   "metadata": {},
   "outputs": [],
   "source": [
    "import numpy as np\n",
    "import pandas as pd\n",
    "import matplotlib.pyplot as plt\n",
    "import seaborn as sns"
   ]
  },
  {
   "cell_type": "code",
   "execution_count": 3,
   "metadata": {},
   "outputs": [
    {
     "name": "stdout",
     "output_type": "stream",
     "text": [
      "<class 'pandas.core.frame.DataFrame'>\n"
     ]
    },
    {
     "data": {
      "text/html": [
       "<div>\n",
       "<style scoped>\n",
       "    .dataframe tbody tr th:only-of-type {\n",
       "        vertical-align: middle;\n",
       "    }\n",
       "\n",
       "    .dataframe tbody tr th {\n",
       "        vertical-align: top;\n",
       "    }\n",
       "\n",
       "    .dataframe thead th {\n",
       "        text-align: right;\n",
       "    }\n",
       "</style>\n",
       "<table border=\"1\" class=\"dataframe\">\n",
       "  <thead>\n",
       "    <tr style=\"text-align: right;\">\n",
       "      <th></th>\n",
       "      <th>Pokemon</th>\n",
       "      <th>Type</th>\n",
       "    </tr>\n",
       "  </thead>\n",
       "  <tbody>\n",
       "    <tr>\n",
       "      <th>0</th>\n",
       "      <td>Bulbasaur</td>\n",
       "      <td>Grass</td>\n",
       "    </tr>\n",
       "    <tr>\n",
       "      <th>1</th>\n",
       "      <td>Ivysaur</td>\n",
       "      <td>Grass</td>\n",
       "    </tr>\n",
       "    <tr>\n",
       "      <th>2</th>\n",
       "      <td>Venusaur</td>\n",
       "      <td>Grass</td>\n",
       "    </tr>\n",
       "    <tr>\n",
       "      <th>3</th>\n",
       "      <td>Charmander</td>\n",
       "      <td>Fire</td>\n",
       "    </tr>\n",
       "    <tr>\n",
       "      <th>4</th>\n",
       "      <td>Charmeleon</td>\n",
       "      <td>Fire</td>\n",
       "    </tr>\n",
       "  </tbody>\n",
       "</table>\n",
       "</div>"
      ],
      "text/plain": [
       "      Pokemon   Type\n",
       "0   Bulbasaur  Grass\n",
       "1     Ivysaur  Grass\n",
       "2    Venusaur  Grass\n",
       "3  Charmander   Fire\n",
       "4  Charmeleon   Fire"
      ]
     },
     "execution_count": 3,
     "metadata": {},
     "output_type": "execute_result"
    }
   ],
   "source": [
    "pokemonDataFrame = pd.read_csv(\"pokemon_data.csv\")\n",
    "print(type(pokemonDataFrame))\n",
    "pokemonDataFrame.head() #by default it gives 5 values."
   ]
  },
  {
   "attachments": {},
   "cell_type": "markdown",
   "metadata": {},
   "source": [
    "Squeeze is used to convert a DataFrame to Series. So We specify seperate columns with usecols = [] argument"
   ]
  },
  {
   "cell_type": "code",
   "execution_count": 4,
   "metadata": {},
   "outputs": [
    {
     "name": "stdout",
     "output_type": "stream",
     "text": [
      "<class 'pandas.core.series.Series'>\n"
     ]
    },
    {
     "data": {
      "text/plain": [
       "0     Bulbasaur\n",
       "1       Ivysaur\n",
       "2      Venusaur\n",
       "3    Charmander\n",
       "4    Charmeleon\n",
       "Name: Pokemon, dtype: object"
      ]
     },
     "execution_count": 4,
     "metadata": {},
     "output_type": "execute_result"
    }
   ],
   "source": [
    "pokemonSeries = pd.read_csv(\"pokemon_data.csv\",usecols=[\"Pokemon\"]).squeeze() \n",
    "print(type(pokemonSeries))\n",
    "pokemonSeries.head()"
   ]
  },
  {
   "attachments": {},
   "cell_type": "markdown",
   "metadata": {},
   "source": [
    "Series is in the form of key:value pair, So we converted the series to dictionary."
   ]
  },
  {
   "cell_type": "code",
   "execution_count": 5,
   "metadata": {},
   "outputs": [
    {
     "name": "stdout",
     "output_type": "stream",
     "text": [
      "{0: 'Bulbasaur', 1: 'Ivysaur', 2: 'Venusaur', 3: 'Charmander', 4: 'Charmeleon', 5: 'Charizard', 6: 'Squirtle', 7: 'Wartortle', 8: 'Blastoise', 9: 'Caterpie', 10: 'Metapod', 11: 'Butterfree', 12: 'Weedle', 13: 'Kakuna', 14: 'Beedrill', 15: 'Pidgey', 16: 'Pidgeotto', 17: 'Pidgeot', 18: 'Rattata', 19: 'Raticate', 20: 'Spearow', 21: 'Fearow', 22: 'Ekans', 23: 'Arbok', 24: 'Pikachu', 25: 'Raichu', 26: 'Sandshrew', 27: 'Sandslash', 28: 'Nidoran', 29: 'Nidorina', 30: 'Nidoqueen', 31: 'Nidoran♂', 32: 'Nidorino', 33: 'Nidoking', 34: 'Clefairy', 35: 'Clefable', 36: 'Vulpix', 37: 'Ninetales', 38: 'Jigglypuff', 39: 'Wigglytuff', 40: 'Zubat', 41: 'Golbat', 42: 'Oddish', 43: 'Gloom', 44: 'Vileplume', 45: 'Paras', 46: 'Parasect', 47: 'Venonat', 48: 'Venomoth', 49: 'Diglett', 50: 'Dugtrio', 51: 'Meowth', 52: 'Persian', 53: 'Psyduck', 54: 'Golduck', 55: 'Mankey', 56: 'Primeape', 57: 'Growlithe', 58: 'Arcanine', 59: 'Poliwag', 60: 'Poliwhirl', 61: 'Poliwrath', 62: 'Abra', 63: 'Kadabra', 64: 'Alakazam', 65: 'Machop', 66: 'Machoke', 67: 'Machamp', 68: 'Bellsprout', 69: 'Weepinbell', 70: 'Victreebel', 71: 'Tentacool', 72: 'Tentacruel', 73: 'Geodude', 74: 'Graveler', 75: 'Golem', 76: 'Ponyta', 77: 'Rapidash', 78: 'Slowpoke', 79: 'Slowbro', 80: 'Magnemite', 81: 'Magneton', 82: \"Farfetch'd\", 83: 'Doduo', 84: 'Dodrio', 85: 'Seel', 86: 'Dewgong', 87: 'Grimer', 88: 'Muk', 89: 'Shellder', 90: 'Cloyster', 91: 'Gastly', 92: 'Haunter', 93: 'Gengar', 94: 'Onix', 95: 'Drowzee', 96: 'Hypno', 97: 'Krabby', 98: 'Kingler', 99: 'Voltorb', 100: 'Electrode', 101: 'Exeggcute', 102: 'Exeggutor', 103: 'Cubone', 104: 'Marowak', 105: 'Hitmonlee', 106: 'Hitmonchan', 107: 'Lickitung', 108: 'Koffing', 109: 'Weezing', 110: 'Rhyhorn', 111: 'Rhydon', 112: 'Chansey', 113: 'Tangela', 114: 'Kangaskhan', 115: 'Horsea', 116: 'Seadra', 117: 'Goldeen', 118: 'Seaking', 119: 'Staryu', 120: 'Starmie', 121: 'Mr. Mime', 122: 'Scyther', 123: 'Jynx', 124: 'Electabuzz', 125: 'Magmar', 126: 'Pinsir', 127: 'Tauros', 128: 'Magikarp', 129: 'Gyarados', 130: 'Lapras', 131: 'Ditto', 132: 'Eevee', 133: 'Vaporeon', 134: 'Jolteon', 135: 'Flareon', 136: 'Porygon', 137: 'Omanyte', 138: 'Omastar', 139: 'Kabuto', 140: 'Kabutops', 141: 'Aerodactyl', 142: 'Snorlax', 143: 'Articuno', 144: 'Zapdos', 145: 'Moltres', 146: 'Dratini', 147: 'Dragonair', 148: 'Dragonite', 149: 'Mewtwo', 150: 'Mew', 151: 'Chikorita', 152: 'Bayleef', 153: 'Meganium', 154: 'Cyndaquil', 155: 'Quilava', 156: 'Typhlosion', 157: 'Totodile', 158: 'Croconaw', 159: 'Feraligatr', 160: 'Sentret', 161: 'Furret', 162: 'Hoothoot', 163: 'Noctowl', 164: 'Ledyba', 165: 'Ledian', 166: 'Spinarak', 167: 'Ariados', 168: 'Crobat', 169: 'Chinchou', 170: 'Lanturn', 171: 'Pichu', 172: 'Cleffa', 173: 'Igglybuff', 174: 'Togepi', 175: 'Togetic', 176: 'Natu', 177: 'Xatu', 178: 'Mareep', 179: 'Flaaffy', 180: 'Ampharos', 181: 'Bellossom', 182: 'Marill', 183: 'Azumarill', 184: 'Sudowoodo', 185: 'Politoed', 186: 'Hoppip', 187: 'Skiploom', 188: 'Jumpluff', 189: 'Aipom', 190: 'Sunkern', 191: 'Sunflora', 192: 'Yanma', 193: 'Wooper', 194: 'Quagsire', 195: 'Espeon', 196: 'Umbreon', 197: 'Murkrow', 198: 'Slowking', 199: 'Misdreavus', 200: 'Unown', 201: 'Wobbuffet', 202: 'Girafarig', 203: 'Pineco', 204: 'Forretress', 205: 'Dunsparce', 206: 'Gligar', 207: 'Steelix', 208: 'Snubbull', 209: 'Granbull', 210: 'Qwilfish', 211: 'Scizor', 212: 'Shuckle', 213: 'Heracross', 214: 'Sneasel', 215: 'Teddiursa', 216: 'Ursaring', 217: 'Slugma', 218: 'Magcargo', 219: 'Swinub', 220: 'Piloswine', 221: 'Corsola', 222: 'Remoraid', 223: 'Octillery', 224: 'Delibird', 225: 'Mantine', 226: 'Skarmory', 227: 'Houndour', 228: 'Houndoom', 229: 'Kingdra', 230: 'Phanpy', 231: 'Donphan', 232: 'Porygon2', 233: 'Stantler', 234: 'Smeargle', 235: 'Tyrogue', 236: 'Hitmontop', 237: 'Smoochum', 238: 'Elekid', 239: 'Magby', 240: 'Miltank', 241: 'Blissey', 242: 'Raikou', 243: 'Entei', 244: 'Suicune', 245: 'Larvitar', 246: 'Pupitar', 247: 'Tyranitar', 248: 'Lugia', 249: 'Ho-oh', 250: 'Celebi', 251: 'Treecko', 252: 'Grovyle', 253: 'Sceptile', 254: 'Torchic', 255: 'Combusken', 256: 'Blaziken', 257: 'Mudkip', 258: 'Marshtomp', 259: 'Swampert', 260: 'Poochyena', 261: 'Mightyena', 262: 'Zigzagoon', 263: 'Linoone', 264: 'Wurmple', 265: 'Silcoon', 266: 'Beautifly', 267: 'Cascoon', 268: 'Dustox', 269: 'Lotad', 270: 'Lombre', 271: 'Ludicolo', 272: 'Seedot', 273: 'Nuzleaf', 274: 'Shiftry', 275: 'Taillow', 276: 'Swellow', 277: 'Wingull', 278: 'Pelipper', 279: 'Ralts', 280: 'Kirlia', 281: 'Gardevoir', 282: 'Surskit', 283: 'Masquerain', 284: 'Shroomish', 285: 'Breloom', 286: 'Slakoth', 287: 'Vigoroth', 288: 'Slaking', 289: 'Nincada', 290: 'Ninjask', 291: 'Shedinja', 292: 'Whismur', 293: 'Loudred', 294: 'Exploud', 295: 'Makuhita', 296: 'Hariyama', 297: 'Azurill', 298: 'Nosepass', 299: 'Skitty', 300: 'Delcatty', 301: 'Sableye', 302: 'Mawile', 303: 'Aron', 304: 'Lairon', 305: 'Aggron', 306: 'Meditite', 307: 'Medicham', 308: 'Electrike', 309: 'Manectric', 310: 'Plusle', 311: 'Minun', 312: 'Volbeat', 313: 'Illumise', 314: 'Roselia', 315: 'Gulpin', 316: 'Swalot', 317: 'Carvanha', 318: 'Sharpedo', 319: 'Wailmer', 320: 'Wailord', 321: 'Numel', 322: 'Camerupt', 323: 'Torkoal', 324: 'Spoink', 325: 'Grumpig', 326: 'Spinda', 327: 'Trapinch', 328: 'Vibrava', 329: 'Flygon', 330: 'Cacnea', 331: 'Cacturne', 332: 'Swablu', 333: 'Altaria', 334: 'Zangoose', 335: 'Seviper', 336: 'Lunatone', 337: 'Solrock', 338: 'Barboach', 339: 'Whiscash', 340: 'Corphish', 341: 'Crawdaunt', 342: 'Baltoy', 343: 'Claydol', 344: 'Lileep', 345: 'Cradily', 346: 'Anorith', 347: 'Armaldo', 348: 'Feebas', 349: 'Milotic', 350: 'Castform', 351: 'Kecleon', 352: 'Shuppet', 353: 'Banette', 354: 'Duskull', 355: 'Dusclops', 356: 'Tropius', 357: 'Chimecho', 358: 'Absol', 359: 'Wynaut', 360: 'Snorunt', 361: 'Glalie', 362: 'Spheal', 363: 'Sealeo', 364: 'Walrein', 365: 'Clamperl', 366: 'Huntail', 367: 'Gorebyss', 368: 'Relicanth', 369: 'Luvdisc', 370: 'Bagon', 371: 'Shelgon', 372: 'Salamence', 373: 'Beldum', 374: 'Metang', 375: 'Metagross', 376: 'Regirock', 377: 'Regice', 378: 'Registeel', 379: 'Latias', 380: 'Latios', 381: 'Kyogre', 382: 'Groudon', 383: 'Rayquaza', 384: 'Jirachi', 385: 'Deoxys', 386: 'Turtwig', 387: 'Grotle', 388: 'Torterra', 389: 'Chimchar', 390: 'Monferno', 391: 'Infernape', 392: 'Piplup', 393: 'Prinplup', 394: 'Empoleon', 395: 'Starly', 396: 'Staravia', 397: 'Staraptor', 398: 'Bidoof', 399: 'Bibarel', 400: 'Kricketot', 401: 'Kricketune', 402: 'Shinx', 403: 'Luxio', 404: 'Luxray', 405: 'Budew', 406: 'Roserade', 407: 'Cranidos', 408: 'Rampardos', 409: 'Shieldon', 410: 'Bastiodon', 411: 'Burmy', 412: 'Wormadam', 413: 'Mothim', 414: 'Combee', 415: 'Vespiquen', 416: 'Pachirisu', 417: 'Buizel', 418: 'Floatzel', 419: 'Cherubi', 420: 'Cherrim', 421: 'Shellos', 422: 'Gastrodon', 423: 'Ambipom', 424: 'Drifloon', 425: 'Drifblim', 426: 'Buneary', 427: 'Lopunny', 428: 'Mismagius', 429: 'Honchkrow', 430: 'Glameow', 431: 'Purugly', 432: 'Chingling', 433: 'Stunky', 434: 'Skuntank', 435: 'Bronzor', 436: 'Bronzong', 437: 'Bonsly', 438: 'Mime Jr.', 439: 'Happiny', 440: 'Chatot', 441: 'Spiritomb', 442: 'Gible', 443: 'Gabite', 444: 'Garchomp', 445: 'Munchlax', 446: 'Riolu', 447: 'Lucario', 448: 'Hippopotas', 449: 'Hippowdon', 450: 'Skorupi', 451: 'Drapion', 452: 'Croagunk', 453: 'Toxicroak', 454: 'Carnivine', 455: 'Finneon', 456: 'Lumineon', 457: 'Mantyke', 458: 'Snover', 459: 'Abomasnow', 460: 'Weavile', 461: 'Magnezone', 462: 'Lickilicky', 463: 'Rhyperior', 464: 'Tangrowth', 465: 'Electivire', 466: 'Magmortar', 467: 'Togekiss', 468: 'Yanmega', 469: 'Leafeon', 470: 'Glaceon', 471: 'Gliscor', 472: 'Mamoswine', 473: 'Porygon-Z', 474: 'Gallade', 475: 'Probopass', 476: 'Dusknoir', 477: 'Froslass', 478: 'Rotom', 479: 'Uxie', 480: 'Mesprit', 481: 'Azelf', 482: 'Dialga', 483: 'Palkia', 484: 'Heatran', 485: 'Regigigas', 486: 'Giratina', 487: 'Cresselia', 488: 'Phione', 489: 'Manaphy', 490: 'Darkrai', 491: 'Shaymin', 492: 'Arceus', 493: 'Victini', 494: 'Snivy', 495: 'Servine', 496: 'Serperior', 497: 'Tepig', 498: 'Pignite', 499: 'Emboar', 500: 'Oshawott', 501: 'Dewott', 502: 'Samurott', 503: 'Patrat', 504: 'Watchog', 505: 'Lillipup', 506: 'Herdier', 507: 'Stoutland', 508: 'Purrloin', 509: 'Liepard', 510: 'Pansage', 511: 'Simisage', 512: 'Pansear', 513: 'Simisear', 514: 'Panpour', 515: 'Simipour', 516: 'Munna', 517: 'Musharna', 518: 'Pidove', 519: 'Tranquill', 520: 'Unfezant', 521: 'Blitzle', 522: 'Zebstrika', 523: 'Roggenrola', 524: 'Boldore', 525: 'Gigalith', 526: 'Woobat', 527: 'Swoobat', 528: 'Drilbur', 529: 'Excadrill', 530: 'Audino', 531: 'Timburr', 532: 'Gurdurr', 533: 'Conkeldurr', 534: 'Tympole', 535: 'Palpitoad', 536: 'Seismitoad', 537: 'Throh', 538: 'Sawk', 539: 'Sewaddle', 540: 'Swadloon', 541: 'Leavanny', 542: 'Venipede', 543: 'Whirlipede', 544: 'Scolipede', 545: 'Cottonee', 546: 'Whimsicott', 547: 'Petilil', 548: 'Lilligant', 549: 'Basculin', 550: 'Sandile', 551: 'Krokorok', 552: 'Krookodile', 553: 'Darumaka', 554: 'Darmanitan', 555: 'Maractus', 556: 'Dwebble', 557: 'Crustle', 558: 'Scraggy', 559: 'Scrafty', 560: 'Sigilyph', 561: 'Yamask', 562: 'Cofagrigus', 563: 'Tirtouga', 564: 'Carracosta', 565: 'Archen', 566: 'Archeops', 567: 'Trubbish', 568: 'Garbodor', 569: 'Zorua', 570: 'Zoroark', 571: 'Minccino', 572: 'Cinccino', 573: 'Gothita', 574: 'Gothorita', 575: 'Gothitelle', 576: 'Solosis', 577: 'Duosion', 578: 'Reuniclus', 579: 'Ducklett', 580: 'Swanna', 581: 'Vanillite', 582: 'Vanillish', 583: 'Vanilluxe', 584: 'Deerling', 585: 'Sawsbuck', 586: 'Emolga', 587: 'Karrablast', 588: 'Escavalier', 589: 'Foongus', 590: 'Amoonguss', 591: 'Frillish', 592: 'Jellicent', 593: 'Alomomola', 594: 'Joltik', 595: 'Galvantula', 596: 'Ferroseed', 597: 'Ferrothorn', 598: 'Klink', 599: 'Klang', 600: 'Klinklang', 601: 'Tynamo', 602: 'Eelektrik', 603: 'Eelektross', 604: 'Elgyem', 605: 'Beheeyem', 606: 'Litwick', 607: 'Lampent', 608: 'Chandelure', 609: 'Axew', 610: 'Fraxure', 611: 'Haxorus', 612: 'Cubchoo', 613: 'Beartic', 614: 'Cryogonal', 615: 'Shelmet', 616: 'Accelgor', 617: 'Stunfisk', 618: 'Mienfoo', 619: 'Mienshao', 620: 'Druddigon', 621: 'Golett', 622: 'Golurk', 623: 'Pawniard', 624: 'Bisharp', 625: 'Bouffalant', 626: 'Rufflet', 627: 'Braviary', 628: 'Vullaby', 629: 'Mandibuzz', 630: 'Heatmor', 631: 'Durant', 632: 'Deino', 633: 'Zweilous', 634: 'Hydreigon', 635: 'Larvesta', 636: 'Volcarona', 637: 'Cobalion', 638: 'Terrakion', 639: 'Virizion', 640: 'Tornadus', 641: 'Thundurus', 642: 'Reshiram', 643: 'Zekrom', 644: 'Landorus', 645: 'Kyurem', 646: 'Keldeo', 647: 'Meloetta', 648: 'Genesect', 649: 'Chespin', 650: 'Quilladin', 651: 'Chesnaught', 652: 'Fennekin', 653: 'Braixen', 654: 'Delphox', 655: 'Froakie', 656: 'Frogadier', 657: 'Greninja', 658: 'Bunnelby', 659: 'Diggersby', 660: 'Fletchling', 661: 'Fletchinder', 662: 'Talonflame', 663: 'Scatterbug', 664: 'Spewpa', 665: 'Vivillon', 666: 'Litleo', 667: 'Pyroar', 668: 'Flabébé', 669: 'Floette', 670: 'Florges', 671: 'Skiddo', 672: 'Gogoat', 673: 'Pancham', 674: 'Pangoro', 675: 'Furfrou', 676: 'Espurr', 677: 'Meowstic', 678: 'Honedge', 679: 'Doublade', 680: 'Aegislash', 681: 'Spritzee', 682: 'Aromatisse', 683: 'Swirlix', 684: 'Slurpuff', 685: 'Inkay', 686: 'Malamar', 687: 'Binacle', 688: 'Barbaracle', 689: 'Skrelp', 690: 'Dragalge', 691: 'Clauncher', 692: 'Clawitzer', 693: 'Helioptile', 694: 'Heliolisk', 695: 'Tyrunt', 696: 'Tyrantrum', 697: 'Amaura', 698: 'Aurorus', 699: 'Sylveon', 700: 'Hawlucha', 701: 'Dedenne', 702: 'Carbink', 703: 'Goomy', 704: 'Sliggoo', 705: 'Goodra', 706: 'Klefki', 707: 'Phantump', 708: 'Trevenant', 709: 'Pumpkaboo', 710: 'Gourgeist', 711: 'Bergmite', 712: 'Avalugg', 713: 'Noibat', 714: 'Noivern', 715: 'Xerneas', 716: 'Yveltal', 717: 'Zygarde', 718: 'Diancie', 719: 'Hoopa', 720: 'Volcanion'}\n"
     ]
    }
   ],
   "source": [
    "dictionary = dict(pokemonSeries)\n",
    "print(dictionary)"
   ]
  },
  {
   "attachments": {},
   "cell_type": "markdown",
   "metadata": {},
   "source": [
    "To sort the dictionary --> returns list"
   ]
  },
  {
   "cell_type": "code",
   "execution_count": 6,
   "metadata": {},
   "outputs": [
    {
     "data": {
      "text/plain": [
       "[0,\n",
       " 1,\n",
       " 2,\n",
       " 3,\n",
       " 4,\n",
       " 5,\n",
       " 6,\n",
       " 7,\n",
       " 8,\n",
       " 9,\n",
       " 10,\n",
       " 11,\n",
       " 12,\n",
       " 13,\n",
       " 14,\n",
       " 15,\n",
       " 16,\n",
       " 17,\n",
       " 18,\n",
       " 19,\n",
       " 20,\n",
       " 21,\n",
       " 22,\n",
       " 23,\n",
       " 24,\n",
       " 25,\n",
       " 26,\n",
       " 27,\n",
       " 28,\n",
       " 29,\n",
       " 30,\n",
       " 31,\n",
       " 32,\n",
       " 33,\n",
       " 34,\n",
       " 35,\n",
       " 36,\n",
       " 37,\n",
       " 38,\n",
       " 39,\n",
       " 40,\n",
       " 41,\n",
       " 42,\n",
       " 43,\n",
       " 44,\n",
       " 45,\n",
       " 46,\n",
       " 47,\n",
       " 48,\n",
       " 49,\n",
       " 50,\n",
       " 51,\n",
       " 52,\n",
       " 53,\n",
       " 54,\n",
       " 55,\n",
       " 56,\n",
       " 57,\n",
       " 58,\n",
       " 59,\n",
       " 60,\n",
       " 61,\n",
       " 62,\n",
       " 63,\n",
       " 64,\n",
       " 65,\n",
       " 66,\n",
       " 67,\n",
       " 68,\n",
       " 69,\n",
       " 70,\n",
       " 71,\n",
       " 72,\n",
       " 73,\n",
       " 74,\n",
       " 75,\n",
       " 76,\n",
       " 77,\n",
       " 78,\n",
       " 79,\n",
       " 80,\n",
       " 81,\n",
       " 82,\n",
       " 83,\n",
       " 84,\n",
       " 85,\n",
       " 86,\n",
       " 87,\n",
       " 88,\n",
       " 89,\n",
       " 90,\n",
       " 91,\n",
       " 92,\n",
       " 93,\n",
       " 94,\n",
       " 95,\n",
       " 96,\n",
       " 97,\n",
       " 98,\n",
       " 99,\n",
       " 100,\n",
       " 101,\n",
       " 102,\n",
       " 103,\n",
       " 104,\n",
       " 105,\n",
       " 106,\n",
       " 107,\n",
       " 108,\n",
       " 109,\n",
       " 110,\n",
       " 111,\n",
       " 112,\n",
       " 113,\n",
       " 114,\n",
       " 115,\n",
       " 116,\n",
       " 117,\n",
       " 118,\n",
       " 119,\n",
       " 120,\n",
       " 121,\n",
       " 122,\n",
       " 123,\n",
       " 124,\n",
       " 125,\n",
       " 126,\n",
       " 127,\n",
       " 128,\n",
       " 129,\n",
       " 130,\n",
       " 131,\n",
       " 132,\n",
       " 133,\n",
       " 134,\n",
       " 135,\n",
       " 136,\n",
       " 137,\n",
       " 138,\n",
       " 139,\n",
       " 140,\n",
       " 141,\n",
       " 142,\n",
       " 143,\n",
       " 144,\n",
       " 145,\n",
       " 146,\n",
       " 147,\n",
       " 148,\n",
       " 149,\n",
       " 150,\n",
       " 151,\n",
       " 152,\n",
       " 153,\n",
       " 154,\n",
       " 155,\n",
       " 156,\n",
       " 157,\n",
       " 158,\n",
       " 159,\n",
       " 160,\n",
       " 161,\n",
       " 162,\n",
       " 163,\n",
       " 164,\n",
       " 165,\n",
       " 166,\n",
       " 167,\n",
       " 168,\n",
       " 169,\n",
       " 170,\n",
       " 171,\n",
       " 172,\n",
       " 173,\n",
       " 174,\n",
       " 175,\n",
       " 176,\n",
       " 177,\n",
       " 178,\n",
       " 179,\n",
       " 180,\n",
       " 181,\n",
       " 182,\n",
       " 183,\n",
       " 184,\n",
       " 185,\n",
       " 186,\n",
       " 187,\n",
       " 188,\n",
       " 189,\n",
       " 190,\n",
       " 191,\n",
       " 192,\n",
       " 193,\n",
       " 194,\n",
       " 195,\n",
       " 196,\n",
       " 197,\n",
       " 198,\n",
       " 199,\n",
       " 200,\n",
       " 201,\n",
       " 202,\n",
       " 203,\n",
       " 204,\n",
       " 205,\n",
       " 206,\n",
       " 207,\n",
       " 208,\n",
       " 209,\n",
       " 210,\n",
       " 211,\n",
       " 212,\n",
       " 213,\n",
       " 214,\n",
       " 215,\n",
       " 216,\n",
       " 217,\n",
       " 218,\n",
       " 219,\n",
       " 220,\n",
       " 221,\n",
       " 222,\n",
       " 223,\n",
       " 224,\n",
       " 225,\n",
       " 226,\n",
       " 227,\n",
       " 228,\n",
       " 229,\n",
       " 230,\n",
       " 231,\n",
       " 232,\n",
       " 233,\n",
       " 234,\n",
       " 235,\n",
       " 236,\n",
       " 237,\n",
       " 238,\n",
       " 239,\n",
       " 240,\n",
       " 241,\n",
       " 242,\n",
       " 243,\n",
       " 244,\n",
       " 245,\n",
       " 246,\n",
       " 247,\n",
       " 248,\n",
       " 249,\n",
       " 250,\n",
       " 251,\n",
       " 252,\n",
       " 253,\n",
       " 254,\n",
       " 255,\n",
       " 256,\n",
       " 257,\n",
       " 258,\n",
       " 259,\n",
       " 260,\n",
       " 261,\n",
       " 262,\n",
       " 263,\n",
       " 264,\n",
       " 265,\n",
       " 266,\n",
       " 267,\n",
       " 268,\n",
       " 269,\n",
       " 270,\n",
       " 271,\n",
       " 272,\n",
       " 273,\n",
       " 274,\n",
       " 275,\n",
       " 276,\n",
       " 277,\n",
       " 278,\n",
       " 279,\n",
       " 280,\n",
       " 281,\n",
       " 282,\n",
       " 283,\n",
       " 284,\n",
       " 285,\n",
       " 286,\n",
       " 287,\n",
       " 288,\n",
       " 289,\n",
       " 290,\n",
       " 291,\n",
       " 292,\n",
       " 293,\n",
       " 294,\n",
       " 295,\n",
       " 296,\n",
       " 297,\n",
       " 298,\n",
       " 299,\n",
       " 300,\n",
       " 301,\n",
       " 302,\n",
       " 303,\n",
       " 304,\n",
       " 305,\n",
       " 306,\n",
       " 307,\n",
       " 308,\n",
       " 309,\n",
       " 310,\n",
       " 311,\n",
       " 312,\n",
       " 313,\n",
       " 314,\n",
       " 315,\n",
       " 316,\n",
       " 317,\n",
       " 318,\n",
       " 319,\n",
       " 320,\n",
       " 321,\n",
       " 322,\n",
       " 323,\n",
       " 324,\n",
       " 325,\n",
       " 326,\n",
       " 327,\n",
       " 328,\n",
       " 329,\n",
       " 330,\n",
       " 331,\n",
       " 332,\n",
       " 333,\n",
       " 334,\n",
       " 335,\n",
       " 336,\n",
       " 337,\n",
       " 338,\n",
       " 339,\n",
       " 340,\n",
       " 341,\n",
       " 342,\n",
       " 343,\n",
       " 344,\n",
       " 345,\n",
       " 346,\n",
       " 347,\n",
       " 348,\n",
       " 349,\n",
       " 350,\n",
       " 351,\n",
       " 352,\n",
       " 353,\n",
       " 354,\n",
       " 355,\n",
       " 356,\n",
       " 357,\n",
       " 358,\n",
       " 359,\n",
       " 360,\n",
       " 361,\n",
       " 362,\n",
       " 363,\n",
       " 364,\n",
       " 365,\n",
       " 366,\n",
       " 367,\n",
       " 368,\n",
       " 369,\n",
       " 370,\n",
       " 371,\n",
       " 372,\n",
       " 373,\n",
       " 374,\n",
       " 375,\n",
       " 376,\n",
       " 377,\n",
       " 378,\n",
       " 379,\n",
       " 380,\n",
       " 381,\n",
       " 382,\n",
       " 383,\n",
       " 384,\n",
       " 385,\n",
       " 386,\n",
       " 387,\n",
       " 388,\n",
       " 389,\n",
       " 390,\n",
       " 391,\n",
       " 392,\n",
       " 393,\n",
       " 394,\n",
       " 395,\n",
       " 396,\n",
       " 397,\n",
       " 398,\n",
       " 399,\n",
       " 400,\n",
       " 401,\n",
       " 402,\n",
       " 403,\n",
       " 404,\n",
       " 405,\n",
       " 406,\n",
       " 407,\n",
       " 408,\n",
       " 409,\n",
       " 410,\n",
       " 411,\n",
       " 412,\n",
       " 413,\n",
       " 414,\n",
       " 415,\n",
       " 416,\n",
       " 417,\n",
       " 418,\n",
       " 419,\n",
       " 420,\n",
       " 421,\n",
       " 422,\n",
       " 423,\n",
       " 424,\n",
       " 425,\n",
       " 426,\n",
       " 427,\n",
       " 428,\n",
       " 429,\n",
       " 430,\n",
       " 431,\n",
       " 432,\n",
       " 433,\n",
       " 434,\n",
       " 435,\n",
       " 436,\n",
       " 437,\n",
       " 438,\n",
       " 439,\n",
       " 440,\n",
       " 441,\n",
       " 442,\n",
       " 443,\n",
       " 444,\n",
       " 445,\n",
       " 446,\n",
       " 447,\n",
       " 448,\n",
       " 449,\n",
       " 450,\n",
       " 451,\n",
       " 452,\n",
       " 453,\n",
       " 454,\n",
       " 455,\n",
       " 456,\n",
       " 457,\n",
       " 458,\n",
       " 459,\n",
       " 460,\n",
       " 461,\n",
       " 462,\n",
       " 463,\n",
       " 464,\n",
       " 465,\n",
       " 466,\n",
       " 467,\n",
       " 468,\n",
       " 469,\n",
       " 470,\n",
       " 471,\n",
       " 472,\n",
       " 473,\n",
       " 474,\n",
       " 475,\n",
       " 476,\n",
       " 477,\n",
       " 478,\n",
       " 479,\n",
       " 480,\n",
       " 481,\n",
       " 482,\n",
       " 483,\n",
       " 484,\n",
       " 485,\n",
       " 486,\n",
       " 487,\n",
       " 488,\n",
       " 489,\n",
       " 490,\n",
       " 491,\n",
       " 492,\n",
       " 493,\n",
       " 494,\n",
       " 495,\n",
       " 496,\n",
       " 497,\n",
       " 498,\n",
       " 499,\n",
       " 500,\n",
       " 501,\n",
       " 502,\n",
       " 503,\n",
       " 504,\n",
       " 505,\n",
       " 506,\n",
       " 507,\n",
       " 508,\n",
       " 509,\n",
       " 510,\n",
       " 511,\n",
       " 512,\n",
       " 513,\n",
       " 514,\n",
       " 515,\n",
       " 516,\n",
       " 517,\n",
       " 518,\n",
       " 519,\n",
       " 520,\n",
       " 521,\n",
       " 522,\n",
       " 523,\n",
       " 524,\n",
       " 525,\n",
       " 526,\n",
       " 527,\n",
       " 528,\n",
       " 529,\n",
       " 530,\n",
       " 531,\n",
       " 532,\n",
       " 533,\n",
       " 534,\n",
       " 535,\n",
       " 536,\n",
       " 537,\n",
       " 538,\n",
       " 539,\n",
       " 540,\n",
       " 541,\n",
       " 542,\n",
       " 543,\n",
       " 544,\n",
       " 545,\n",
       " 546,\n",
       " 547,\n",
       " 548,\n",
       " 549,\n",
       " 550,\n",
       " 551,\n",
       " 552,\n",
       " 553,\n",
       " 554,\n",
       " 555,\n",
       " 556,\n",
       " 557,\n",
       " 558,\n",
       " 559,\n",
       " 560,\n",
       " 561,\n",
       " 562,\n",
       " 563,\n",
       " 564,\n",
       " 565,\n",
       " 566,\n",
       " 567,\n",
       " 568,\n",
       " 569,\n",
       " 570,\n",
       " 571,\n",
       " 572,\n",
       " 573,\n",
       " 574,\n",
       " 575,\n",
       " 576,\n",
       " 577,\n",
       " 578,\n",
       " 579,\n",
       " 580,\n",
       " 581,\n",
       " 582,\n",
       " 583,\n",
       " 584,\n",
       " 585,\n",
       " 586,\n",
       " 587,\n",
       " 588,\n",
       " 589,\n",
       " 590,\n",
       " 591,\n",
       " 592,\n",
       " 593,\n",
       " 594,\n",
       " 595,\n",
       " 596,\n",
       " 597,\n",
       " 598,\n",
       " 599,\n",
       " 600,\n",
       " 601,\n",
       " 602,\n",
       " 603,\n",
       " 604,\n",
       " 605,\n",
       " 606,\n",
       " 607,\n",
       " 608,\n",
       " 609,\n",
       " 610,\n",
       " 611,\n",
       " 612,\n",
       " 613,\n",
       " 614,\n",
       " 615,\n",
       " 616,\n",
       " 617,\n",
       " 618,\n",
       " 619,\n",
       " 620,\n",
       " 621,\n",
       " 622,\n",
       " 623,\n",
       " 624,\n",
       " 625,\n",
       " 626,\n",
       " 627,\n",
       " 628,\n",
       " 629,\n",
       " 630,\n",
       " 631,\n",
       " 632,\n",
       " 633,\n",
       " 634,\n",
       " 635,\n",
       " 636,\n",
       " 637,\n",
       " 638,\n",
       " 639,\n",
       " 640,\n",
       " 641,\n",
       " 642,\n",
       " 643,\n",
       " 644,\n",
       " 645,\n",
       " 646,\n",
       " 647,\n",
       " 648,\n",
       " 649,\n",
       " 650,\n",
       " 651,\n",
       " 652,\n",
       " 653,\n",
       " 654,\n",
       " 655,\n",
       " 656,\n",
       " 657,\n",
       " 658,\n",
       " 659,\n",
       " 660,\n",
       " 661,\n",
       " 662,\n",
       " 663,\n",
       " 664,\n",
       " 665,\n",
       " 666,\n",
       " 667,\n",
       " 668,\n",
       " 669,\n",
       " 670,\n",
       " 671,\n",
       " 672,\n",
       " 673,\n",
       " 674,\n",
       " 675,\n",
       " 676,\n",
       " 677,\n",
       " 678,\n",
       " 679,\n",
       " 680,\n",
       " 681,\n",
       " 682,\n",
       " 683,\n",
       " 684,\n",
       " 685,\n",
       " 686,\n",
       " 687,\n",
       " 688,\n",
       " 689,\n",
       " 690,\n",
       " 691,\n",
       " 692,\n",
       " 693,\n",
       " 694,\n",
       " 695,\n",
       " 696,\n",
       " 697,\n",
       " 698,\n",
       " 699,\n",
       " 700,\n",
       " 701,\n",
       " 702,\n",
       " 703,\n",
       " 704,\n",
       " 705,\n",
       " 706,\n",
       " 707,\n",
       " 708,\n",
       " 709,\n",
       " 710,\n",
       " 711,\n",
       " 712,\n",
       " 713,\n",
       " 714,\n",
       " 715,\n",
       " 716,\n",
       " 717,\n",
       " 718,\n",
       " 719,\n",
       " 720]"
      ]
     },
     "execution_count": 6,
     "metadata": {},
     "output_type": "execute_result"
    }
   ],
   "source": [
    "sorted(dictionary)"
   ]
  },
  {
   "attachments": {},
   "cell_type": "markdown",
   "metadata": {},
   "source": [
    "Sorting the Series "
   ]
  },
  {
   "cell_type": "code",
   "execution_count": 7,
   "metadata": {},
   "outputs": [
    {
     "data": {
      "text/plain": [
       "459    Abomasnow\n",
       "62          Abra\n",
       "358        Absol\n",
       "616     Accelgor\n",
       "680    Aegislash\n",
       "         ...    \n",
       "570      Zoroark\n",
       "569        Zorua\n",
       "40         Zubat\n",
       "633     Zweilous\n",
       "717      Zygarde\n",
       "Name: Pokemon, Length: 721, dtype: object"
      ]
     },
     "execution_count": 7,
     "metadata": {},
     "output_type": "execute_result"
    }
   ],
   "source": [
    "pokemonSeries.sort_values()"
   ]
  },
  {
   "attachments": {},
   "cell_type": "markdown",
   "metadata": {},
   "source": [
    "Here the index is unsorted, so we have to ignore the index and reassign from 0 to n-1"
   ]
  },
  {
   "cell_type": "code",
   "execution_count": 8,
   "metadata": {},
   "outputs": [
    {
     "data": {
      "text/plain": [
       "0      Abomasnow\n",
       "1           Abra\n",
       "2          Absol\n",
       "3       Accelgor\n",
       "4      Aegislash\n",
       "         ...    \n",
       "716      Zoroark\n",
       "717        Zorua\n",
       "718        Zubat\n",
       "719     Zweilous\n",
       "720      Zygarde\n",
       "Name: Pokemon, Length: 721, dtype: object"
      ]
     },
     "execution_count": 8,
     "metadata": {},
     "output_type": "execute_result"
    }
   ],
   "source": [
    "pokemonSeries.sort_values(ignore_index=True, ascending= True) #ascending argument is used to sort in ascending and descending based on boolean value."
   ]
  },
  {
   "attachments": {},
   "cell_type": "markdown",
   "metadata": {},
   "source": [
    "Row Label Indexing:\n",
    "--------------------\n",
    "We can also initialize index by any one of the columns, but while creating an index make sure the column has unique values"
   ]
  },
  {
   "cell_type": "code",
   "execution_count": 9,
   "metadata": {},
   "outputs": [
    {
     "data": {
      "text/html": [
       "<div>\n",
       "<style scoped>\n",
       "    .dataframe tbody tr th:only-of-type {\n",
       "        vertical-align: middle;\n",
       "    }\n",
       "\n",
       "    .dataframe tbody tr th {\n",
       "        vertical-align: top;\n",
       "    }\n",
       "\n",
       "    .dataframe thead th {\n",
       "        text-align: right;\n",
       "    }\n",
       "</style>\n",
       "<table border=\"1\" class=\"dataframe\">\n",
       "  <thead>\n",
       "    <tr style=\"text-align: right;\">\n",
       "      <th></th>\n",
       "      <th>Type</th>\n",
       "    </tr>\n",
       "    <tr>\n",
       "      <th>Pokemon</th>\n",
       "      <th></th>\n",
       "    </tr>\n",
       "  </thead>\n",
       "  <tbody>\n",
       "    <tr>\n",
       "      <th>Bulbasaur</th>\n",
       "      <td>Grass</td>\n",
       "    </tr>\n",
       "    <tr>\n",
       "      <th>Ivysaur</th>\n",
       "      <td>Grass</td>\n",
       "    </tr>\n",
       "    <tr>\n",
       "      <th>Venusaur</th>\n",
       "      <td>Grass</td>\n",
       "    </tr>\n",
       "    <tr>\n",
       "      <th>Charmander</th>\n",
       "      <td>Fire</td>\n",
       "    </tr>\n",
       "    <tr>\n",
       "      <th>Charmeleon</th>\n",
       "      <td>Fire</td>\n",
       "    </tr>\n",
       "  </tbody>\n",
       "</table>\n",
       "</div>"
      ],
      "text/plain": [
       "             Type\n",
       "Pokemon          \n",
       "Bulbasaur   Grass\n",
       "Ivysaur     Grass\n",
       "Venusaur    Grass\n",
       "Charmander   Fire\n",
       "Charmeleon   Fire"
      ]
     },
     "execution_count": 9,
     "metadata": {},
     "output_type": "execute_result"
    }
   ],
   "source": [
    "df = pd.read_csv(\"pokemon_data.csv\",index_col =  [\"Pokemon\"])\n",
    "df.head()"
   ]
  },
  {
   "attachments": {},
   "cell_type": "markdown",
   "metadata": {},
   "source": [
    "Can a dataframe has composite indexing?\n",
    "------------------------------------------\n",
    "Yes, a pandas DataFrame in Python can have composite indexing. This means that instead of having a single index for each row, a DataFrame can have multiple indices, known as a MultiIndex, to allow for more expressive and hierarchical labeling of the data. To create a MultiIndex, you can pass a list of arrays or labels to the pd.MultiIndex.from_tuples or pd.MultiIndex.from_arrays method and then assign it to the DataFrame.index property.\n",
    "\n",
    "Here's an example:"
   ]
  },
  {
   "cell_type": "code",
   "execution_count": 10,
   "metadata": {},
   "outputs": [
    {
     "name": "stdout",
     "output_type": "stream",
     "text": [
      "     A  B  C\n",
      "0 a  1  4  7\n",
      "1 b  2  5  8\n",
      "2 c  3  6  9\n"
     ]
    }
   ],
   "source": [
    "import pandas as pd\n",
    "\n",
    "# Create a DataFrame with sample data\n",
    "df = pd.DataFrame({'A': [1, 2, 3], 'B': [4, 5, 6], 'C': [7, 8, 9]})\n",
    "\n",
    "# Create a MultiIndex from tuples\n",
    "multiindex = pd.MultiIndex.from_tuples([(0, 'a'), (1, 'b'), (2, 'c')])\n",
    "\n",
    "# Assign the MultiIndex to the DataFrame index\n",
    "df.index = multiindex\n",
    "\n",
    "# Access the DataFrame with composite index\n",
    "print(df)\n",
    "\n",
    "# Output:\n",
    "#      A  B  C\n",
    "# 0 a  1  4  7\n",
    "# 1 b  2  5  8\n",
    "# 2 c  3  6  9\n"
   ]
  },
  {
   "attachments": {},
   "cell_type": "markdown",
   "metadata": {},
   "source": [
    "In this example, a MultiIndex is created from tuples and then assigned to the index of the DataFrame. The MultiIndex allows you to access the data using both levels of the index, making it easier to work with multi-level data in a DataFrame."
   ]
  },
  {
   "attachments": {},
   "cell_type": "markdown",
   "metadata": {},
   "source": [
    "Sorting the data based on indexing:\n",
    "-----------------------------------"
   ]
  },
  {
   "cell_type": "code",
   "execution_count": 11,
   "metadata": {},
   "outputs": [
    {
     "data": {
      "text/html": [
       "<div>\n",
       "<style scoped>\n",
       "    .dataframe tbody tr th:only-of-type {\n",
       "        vertical-align: middle;\n",
       "    }\n",
       "\n",
       "    .dataframe tbody tr th {\n",
       "        vertical-align: top;\n",
       "    }\n",
       "\n",
       "    .dataframe thead th {\n",
       "        text-align: right;\n",
       "    }\n",
       "</style>\n",
       "<table border=\"1\" class=\"dataframe\">\n",
       "  <thead>\n",
       "    <tr style=\"text-align: right;\">\n",
       "      <th></th>\n",
       "      <th>Type</th>\n",
       "    </tr>\n",
       "    <tr>\n",
       "      <th>Pokemon</th>\n",
       "      <th></th>\n",
       "    </tr>\n",
       "  </thead>\n",
       "  <tbody>\n",
       "    <tr>\n",
       "      <th>Abomasnow</th>\n",
       "      <td>Grass</td>\n",
       "    </tr>\n",
       "    <tr>\n",
       "      <th>Abra</th>\n",
       "      <td>Psychic</td>\n",
       "    </tr>\n",
       "    <tr>\n",
       "      <th>Absol</th>\n",
       "      <td>Dark</td>\n",
       "    </tr>\n",
       "    <tr>\n",
       "      <th>Accelgor</th>\n",
       "      <td>Bug</td>\n",
       "    </tr>\n",
       "    <tr>\n",
       "      <th>Aegislash</th>\n",
       "      <td>Steel</td>\n",
       "    </tr>\n",
       "    <tr>\n",
       "      <th>...</th>\n",
       "      <td>...</td>\n",
       "    </tr>\n",
       "    <tr>\n",
       "      <th>Zoroark</th>\n",
       "      <td>Dark</td>\n",
       "    </tr>\n",
       "    <tr>\n",
       "      <th>Zorua</th>\n",
       "      <td>Dark</td>\n",
       "    </tr>\n",
       "    <tr>\n",
       "      <th>Zubat</th>\n",
       "      <td>Poison</td>\n",
       "    </tr>\n",
       "    <tr>\n",
       "      <th>Zweilous</th>\n",
       "      <td>Dark</td>\n",
       "    </tr>\n",
       "    <tr>\n",
       "      <th>Zygarde</th>\n",
       "      <td>Dragon</td>\n",
       "    </tr>\n",
       "  </tbody>\n",
       "</table>\n",
       "<p>721 rows × 1 columns</p>\n",
       "</div>"
      ],
      "text/plain": [
       "              Type\n",
       "Pokemon           \n",
       "Abomasnow    Grass\n",
       "Abra       Psychic\n",
       "Absol         Dark\n",
       "Accelgor       Bug\n",
       "Aegislash    Steel\n",
       "...            ...\n",
       "Zoroark       Dark\n",
       "Zorua         Dark\n",
       "Zubat       Poison\n",
       "Zweilous      Dark\n",
       "Zygarde     Dragon\n",
       "\n",
       "[721 rows x 1 columns]"
      ]
     },
     "execution_count": 11,
     "metadata": {},
     "output_type": "execute_result"
    }
   ],
   "source": [
    "df = pd.read_csv(\"pokemon_data.csv\",index_col =  [\"Pokemon\"])\n",
    "df.sort_index()"
   ]
  },
  {
   "attachments": {},
   "cell_type": "markdown",
   "metadata": {},
   "source": [
    "To check whether index is present in to row labels\n",
    "---------------------------------------------------"
   ]
  },
  {
   "cell_type": "code",
   "execution_count": 12,
   "metadata": {},
   "outputs": [
    {
     "data": {
      "text/plain": [
       "True"
      ]
     },
     "execution_count": 12,
     "metadata": {},
     "output_type": "execute_result"
    }
   ],
   "source": [
    "\"Abra\" in df.index"
   ]
  },
  {
   "attachments": {},
   "cell_type": "markdown",
   "metadata": {},
   "source": [
    "Accessing Data using index:\n",
    "----------------------------"
   ]
  },
  {
   "cell_type": "code",
   "execution_count": 13,
   "metadata": {},
   "outputs": [
    {
     "data": {
      "text/plain": [
       "0     Bulbasaur\n",
       "1       Ivysaur\n",
       "2      Venusaur\n",
       "3    Charmander\n",
       "4    Charmeleon\n",
       "Name: Pokemon, dtype: object"
      ]
     },
     "execution_count": 13,
     "metadata": {},
     "output_type": "execute_result"
    }
   ],
   "source": [
    "pokemonSeries = pd.read_csv(\"pokemon_data.csv\",usecols=[\"Pokemon\"]).squeeze() \n",
    "pokemonSeries[0:5]"
   ]
  },
  {
   "cell_type": "code",
   "execution_count": 14,
   "metadata": {},
   "outputs": [
    {
     "data": {
      "text/plain": [
       "0     Bulbasaur\n",
       "2      Venusaur\n",
       "4    Charmeleon\n",
       "7     Wartortle\n",
       "9      Caterpie\n",
       "Name: Pokemon, dtype: object"
      ]
     },
     "execution_count": 14,
     "metadata": {},
     "output_type": "execute_result"
    }
   ],
   "source": [
    "pokemonSeries[[0,2,4,7,9]]"
   ]
  },
  {
   "attachments": {},
   "cell_type": "markdown",
   "metadata": {},
   "source": [
    "Updating a value via index\n",
    "---------------------------"
   ]
  },
  {
   "cell_type": "code",
   "execution_count": 15,
   "metadata": {},
   "outputs": [
    {
     "data": {
      "text/plain": [
       "0     bulbasaur\n",
       "1       Ivysaur\n",
       "2      Venusaur\n",
       "3    Charmander\n",
       "4    Charmeleon\n",
       "Name: Pokemon, dtype: object"
      ]
     },
     "execution_count": 15,
     "metadata": {},
     "output_type": "execute_result"
    }
   ],
   "source": [
    "pokemonSeries[0] = \"bulbasaur\"\n",
    "pokemonSeries.head()"
   ]
  },
  {
   "attachments": {},
   "cell_type": "markdown",
   "metadata": {},
   "source": [
    "Multiple Updation\n",
    "---------------"
   ]
  },
  {
   "cell_type": "code",
   "execution_count": 16,
   "metadata": {},
   "outputs": [
    {
     "data": {
      "text/plain": [
       "0      new_updated_value\n",
       "2      new_updated_value\n",
       "720    new_updated_value\n",
       "Name: Pokemon, dtype: object"
      ]
     },
     "execution_count": 16,
     "metadata": {},
     "output_type": "execute_result"
    }
   ],
   "source": [
    "pokemonSeries[[0,2,720]] = \"new_updated_value\"\n",
    "\n",
    "pokemonSeries[[0,2,720]]"
   ]
  },
  {
   "cell_type": "code",
   "execution_count": 17,
   "metadata": {},
   "outputs": [
    {
     "name": "stdout",
     "output_type": "stream",
     "text": [
      "Pokemon\n",
      "Bulbasaur     Grass\n",
      "Ivysaur       Grass\n",
      "Venusaur      Grass\n",
      "Charmander     Fire\n",
      "Charmeleon     Fire\n",
      "Name: Type, dtype: object\n"
     ]
    },
    {
     "data": {
      "text/plain": [
       "pandas.core.series.Series"
      ]
     },
     "execution_count": 17,
     "metadata": {},
     "output_type": "execute_result"
    }
   ],
   "source": [
    "pokemonSeries = pd.read_csv(\"pokemon_data.csv\",index_col=\"Pokemon\").squeeze()\n",
    "print(pokemonSeries[0:5])\n",
    "type(pokemonSeries)\n"
   ]
  },
  {
   "attachments": {},
   "cell_type": "markdown",
   "metadata": {},
   "source": [
    "To access data by get() Method, if data is not present it skips.\n",
    "----------------------------------------------------------------"
   ]
  },
  {
   "cell_type": "code",
   "execution_count": 18,
   "metadata": {},
   "outputs": [
    {
     "name": "stdout",
     "output_type": "stream",
     "text": [
      "Pokemon\n",
      "Bulbasaur    Grass\n",
      "Charizard     Fire\n",
      "Name: Type, dtype: object\n",
      "Grass\n"
     ]
    }
   ],
   "source": [
    "print(pokemonSeries.get([0,5]))\n",
    "print(pokemonSeries.get(\"Bulbasaur\"))"
   ]
  },
  {
   "cell_type": "code",
   "execution_count": 19,
   "metadata": {},
   "outputs": [
    {
     "name": "stdout",
     "output_type": "stream",
     "text": [
      "help\n"
     ]
    }
   ],
   "source": [
    "print(pokemonSeries.get(\"Bulbasaura\",\"help\")) #if the firs value is not present, it displays 2nd parameter."
   ]
  },
  {
   "attachments": {},
   "cell_type": "markdown",
   "metadata": {},
   "source": [
    "While creating a Series from a DataFrame, whatever changes or updates done in Series it affects the dataframe too.\n",
    "-----------------------"
   ]
  },
  {
   "cell_type": "code",
   "execution_count": 20,
   "metadata": {},
   "outputs": [
    {
     "data": {
      "text/plain": [
       "pandas.core.frame.DataFrame"
      ]
     },
     "execution_count": 20,
     "metadata": {},
     "output_type": "execute_result"
    }
   ],
   "source": [
    "pokemonSeries = pd.read_csv(\"pokemon_data.csv\",index_col=\"Pokemon\")\n",
    "type(pokemonSeries)"
   ]
  },
  {
   "cell_type": "code",
   "execution_count": 21,
   "metadata": {},
   "outputs": [
    {
     "data": {
      "text/plain": [
       "pandas.core.series.Series"
      ]
     },
     "execution_count": 21,
     "metadata": {},
     "output_type": "execute_result"
    }
   ],
   "source": [
    "series = pokemonSeries.squeeze()\n",
    "type(series)"
   ]
  },
  {
   "cell_type": "code",
   "execution_count": 36,
   "metadata": {},
   "outputs": [
    {
     "data": {
      "text/plain": [
       "Pokemon\n",
       "Bulbasaur     new_updated_value\n",
       "Ivysaur       new_updated_value\n",
       "Venusaur                  Grass\n",
       "Charmander                 Fire\n",
       "Charmeleon                 Fire\n",
       "Name: Type, dtype: object"
      ]
     },
     "execution_count": 36,
     "metadata": {},
     "output_type": "execute_result"
    }
   ],
   "source": [
    "series.head()"
   ]
  },
  {
   "cell_type": "code",
   "execution_count": 22,
   "metadata": {},
   "outputs": [
    {
     "name": "stdout",
     "output_type": "stream",
     "text": [
      "Pokemon\n",
      "Bulbasaur     new_updated_value\n",
      "Ivysaur       new_updated_value\n",
      "Venusaur                  Grass\n",
      "Charmander                 Fire\n",
      "Charmeleon                 Fire\n",
      "Name: Type, dtype: object\n",
      "                         Type\n",
      "Pokemon                      \n",
      "Bulbasaur   new_updated_value\n",
      "Ivysaur     new_updated_value\n",
      "Venusaur                Grass\n",
      "Charmander               Fire\n",
      "Charmeleon               Fire\n"
     ]
    }
   ],
   "source": [
    "series[[0,1]] = [\"new_updated_value\",\"new_updated_value\"]\n",
    "\n",
    "print(series.head())\n",
    "print(pokemonSeries.head())"
   ]
  },
  {
   "attachments": {},
   "cell_type": "markdown",
   "metadata": {},
   "source": [
    "Changes appears in DataFrame also\n"
   ]
  },
  {
   "attachments": {},
   "cell_type": "markdown",
   "metadata": {},
   "source": [
    "To Apply any function in every element of the Series:\n",
    "------------------------------------------------------"
   ]
  },
  {
   "cell_type": "code",
   "execution_count": 23,
   "metadata": {},
   "outputs": [
    {
     "data": {
      "text/plain": [
       "Pokemon\n",
       "Bulbasaur     17\n",
       "Ivysaur       17\n",
       "Venusaur       5\n",
       "Charmander     4\n",
       "Charmeleon     4\n",
       "              ..\n",
       "Yveltal        4\n",
       "Zygarde        6\n",
       "Diancie        4\n",
       "Hoopa          7\n",
       "Volcanion      4\n",
       "Name: Type, Length: 721, dtype: int64"
      ]
     },
     "execution_count": 23,
     "metadata": {},
     "output_type": "execute_result"
    }
   ],
   "source": [
    "series.apply(len) #it's not assigned to the same variable."
   ]
  },
  {
   "cell_type": "code",
   "execution_count": 24,
   "metadata": {},
   "outputs": [
    {
     "data": {
      "text/plain": [
       "Pokemon\n",
       "Bulbasaur     new_updated_value\n",
       "Ivysaur       new_updated_value\n",
       "Venusaur                  Grass\n",
       "Charmander                 Fire\n",
       "Charmeleon                 Fire\n",
       "Name: Type, dtype: object"
      ]
     },
     "execution_count": 24,
     "metadata": {},
     "output_type": "execute_result"
    }
   ],
   "source": [
    "series.head()"
   ]
  },
  {
   "attachments": {},
   "cell_type": "markdown",
   "metadata": {},
   "source": [
    "Question:\n",
    "--------"
   ]
  },
  {
   "attachments": {},
   "cell_type": "markdown",
   "metadata": {},
   "source": [
    "Now apply a fn in which a away the year is from 1960 to 1975 , so we have to get the output as movie hit.\n",
    "if movie is from 1975 to 2000 --> movie flop\n",
    "else --> movie average"
   ]
  },
  {
   "cell_type": "code",
   "execution_count": 25,
   "metadata": {},
   "outputs": [],
   "source": [
    "df = pd.read_csv(\"jamesbond_user.csv\")\n",
    "df.head()\n",
    "df = df.set_index(\"Film\")\n"
   ]
  },
  {
   "cell_type": "code",
   "execution_count": 26,
   "metadata": {},
   "outputs": [
    {
     "data": {
      "text/html": [
       "<div>\n",
       "<style scoped>\n",
       "    .dataframe tbody tr th:only-of-type {\n",
       "        vertical-align: middle;\n",
       "    }\n",
       "\n",
       "    .dataframe tbody tr th {\n",
       "        vertical-align: top;\n",
       "    }\n",
       "\n",
       "    .dataframe thead th {\n",
       "        text-align: right;\n",
       "    }\n",
       "</style>\n",
       "<table border=\"1\" class=\"dataframe\">\n",
       "  <thead>\n",
       "    <tr style=\"text-align: right;\">\n",
       "      <th></th>\n",
       "      <th>Year</th>\n",
       "      <th>Actor</th>\n",
       "      <th>Director</th>\n",
       "      <th>Box Office</th>\n",
       "      <th>Budget</th>\n",
       "      <th>Bond Actor Salary</th>\n",
       "    </tr>\n",
       "    <tr>\n",
       "      <th>Film</th>\n",
       "      <th></th>\n",
       "      <th></th>\n",
       "      <th></th>\n",
       "      <th></th>\n",
       "      <th></th>\n",
       "      <th></th>\n",
       "    </tr>\n",
       "  </thead>\n",
       "  <tbody>\n",
       "    <tr>\n",
       "      <th>Dr. No</th>\n",
       "      <td>1962</td>\n",
       "      <td>Sean Connery</td>\n",
       "      <td>Terence Young</td>\n",
       "      <td>448.8</td>\n",
       "      <td>7.0</td>\n",
       "      <td>0.6</td>\n",
       "    </tr>\n",
       "    <tr>\n",
       "      <th>From Russia with Love</th>\n",
       "      <td>1963</td>\n",
       "      <td>Sean Connery</td>\n",
       "      <td>Terence Young</td>\n",
       "      <td>543.8</td>\n",
       "      <td>12.6</td>\n",
       "      <td>1.6</td>\n",
       "    </tr>\n",
       "    <tr>\n",
       "      <th>Goldfinger</th>\n",
       "      <td>1964</td>\n",
       "      <td>Sean Connery</td>\n",
       "      <td>Guy Hamilton</td>\n",
       "      <td>820.4</td>\n",
       "      <td>18.6</td>\n",
       "      <td>3.2</td>\n",
       "    </tr>\n",
       "    <tr>\n",
       "      <th>Thunderball</th>\n",
       "      <td>1965</td>\n",
       "      <td>Sean Connery</td>\n",
       "      <td>Terence Young</td>\n",
       "      <td>848.1</td>\n",
       "      <td>41.9</td>\n",
       "      <td>4.7</td>\n",
       "    </tr>\n",
       "    <tr>\n",
       "      <th>Casino Royale</th>\n",
       "      <td>1967</td>\n",
       "      <td>David Niven</td>\n",
       "      <td>Ken Hughes</td>\n",
       "      <td>315.0</td>\n",
       "      <td>85.0</td>\n",
       "      <td>NaN</td>\n",
       "    </tr>\n",
       "  </tbody>\n",
       "</table>\n",
       "</div>"
      ],
      "text/plain": [
       "                       Year         Actor       Director  Box Office  Budget  \\\n",
       "Film                                                                           \n",
       "Dr. No                 1962  Sean Connery  Terence Young       448.8     7.0   \n",
       "From Russia with Love  1963  Sean Connery  Terence Young       543.8    12.6   \n",
       "Goldfinger             1964  Sean Connery   Guy Hamilton       820.4    18.6   \n",
       "Thunderball            1965  Sean Connery  Terence Young       848.1    41.9   \n",
       "Casino Royale          1967   David Niven     Ken Hughes       315.0    85.0   \n",
       "\n",
       "                       Bond Actor Salary  \n",
       "Film                                      \n",
       "Dr. No                               0.6  \n",
       "From Russia with Love                1.6  \n",
       "Goldfinger                           3.2  \n",
       "Thunderball                          4.7  \n",
       "Casino Royale                        NaN  "
      ]
     },
     "execution_count": 26,
     "metadata": {},
     "output_type": "execute_result"
    }
   ],
   "source": [
    "df.head()\n"
   ]
  },
  {
   "cell_type": "code",
   "execution_count": 27,
   "metadata": {},
   "outputs": [
    {
     "name": "stdout",
     "output_type": "stream",
     "text": [
      "['Movie Hit', 'Movie Hit', 'Movie Hit', 'Movie Hit', 'Movie Hit', 'Movie Hit', 'Movie Hit', 'Movie Hit', 'Movie Hit', 'Movie Hit', 'Movie Flop', 'Movie Flop', 'Movie Flop', 'Movie Flop', 'Movie Flop', 'Movie Flop', 'Movie Flop', 'Movie Flop', 'Movie Flop', 'Movie Flop', 'Movie Flop', 'Movie Average', 'Movie Average', 'Movie Average', 'Movie Average', 'Movie Average']\n"
     ]
    }
   ],
   "source": [
    "df[\"ratings\"] = 1\n",
    "list1 = []\n",
    "for i in df.iloc[:,0]:\n",
    "    if i > 1960 and i < 1975:\n",
    "        list1.append(\"Movie Hit\")\n",
    "    elif i >= 1975 and i < 2000:\n",
    "        list1.append(\"Movie Flop\")\n",
    "    else:\n",
    "        list1.append(\"Movie Average\")\n",
    "\n",
    "print(list1)"
   ]
  },
  {
   "cell_type": "code",
   "execution_count": 28,
   "metadata": {},
   "outputs": [],
   "source": [
    "df[\"Ratings\"] = list1"
   ]
  },
  {
   "cell_type": "code",
   "execution_count": 29,
   "metadata": {},
   "outputs": [
    {
     "data": {
      "text/plain": [
       "Film\n",
       "Dr. No                                 Movie Hit\n",
       "From Russia with Love                  Movie Hit\n",
       "Goldfinger                             Movie Hit\n",
       "Thunderball                            Movie Hit\n",
       "Casino Royale                          Movie Hit\n",
       "You Only Live Twice                    Movie Hit\n",
       "On Her Majesty's Secret Service        Movie Hit\n",
       "Diamonds Are Forever                   Movie Hit\n",
       "Live and Let Die                       Movie Hit\n",
       "The Man with the Golden Gun            Movie Hit\n",
       "The Spy Who Loved Me                  Movie Flop\n",
       "Moonraker                             Movie Flop\n",
       "For Your Eyes Only                    Movie Flop\n",
       "Never Say Never Again                 Movie Flop\n",
       "Octopussy                             Movie Flop\n",
       "A View to a Kill                      Movie Flop\n",
       "The Living Daylights                  Movie Flop\n",
       "Licence to Kill                       Movie Flop\n",
       "GoldenEye                             Movie Flop\n",
       "Tomorrow Never Dies                   Movie Flop\n",
       "The World Is Not Enough               Movie Flop\n",
       "Die Another Day                    Movie Average\n",
       "Casino Royale                      Movie Average\n",
       "Quantum of Solace                  Movie Average\n",
       "Skyfall                            Movie Average\n",
       "Spectre                            Movie Average\n",
       "Name: Ratings, dtype: object"
      ]
     },
     "execution_count": 29,
     "metadata": {},
     "output_type": "execute_result"
    }
   ],
   "source": [
    "df[\"Ratings\"]"
   ]
  },
  {
   "cell_type": "code",
   "execution_count": 30,
   "metadata": {},
   "outputs": [
    {
     "data": {
      "text/plain": [
       "Movie Flop       11\n",
       "Movie Hit        10\n",
       "Movie Average     5\n",
       "Name: Ratings, dtype: int64"
      ]
     },
     "execution_count": 30,
     "metadata": {},
     "output_type": "execute_result"
    }
   ],
   "source": [
    "df[\"Ratings\"].value_counts()"
   ]
  },
  {
   "cell_type": "code",
   "execution_count": 31,
   "metadata": {},
   "outputs": [
    {
     "name": "stdout",
     "output_type": "stream",
     "text": [
      "{1962: 'Movie Hit', 1963: 'Movie Hit', 1964: 'Movie Hit', 1965: 'Movie Hit', 1967: 'Movie Hit', 1969: 'Movie Hit', 1971: 'Movie Hit', 1973: 'Movie Hit', 1974: 'Movie Hit', 1977: 'Movie Flop', 1979: 'Movie Flop', 1981: 'Movie Flop', 1983: 'Movie Flop', 1985: 'Movie Flop', 1987: 'Movie Flop', 1989: 'Movie Flop', 1995: 'Movie Flop', 1997: 'Movie Flop', 1999: 'Movie Flop', 2002: 'Movie Average', 2006: 'Movie Average', 2008: 'Movie Average', 2012: 'Movie Average', 2015: 'Movie Average'}\n"
     ]
    }
   ],
   "source": [
    "dictionary = dict()\n",
    "\n",
    "for i in range(len(df)):\n",
    "    if df['Year'][i] not in dictionary.keys():\n",
    "        dictionary[df['Year'][i]] = df['Ratings'][i]\n",
    "\n",
    "print(dictionary)"
   ]
  },
  {
   "cell_type": "code",
   "execution_count": 32,
   "metadata": {},
   "outputs": [
    {
     "data": {
      "text/html": [
       "<div>\n",
       "<style scoped>\n",
       "    .dataframe tbody tr th:only-of-type {\n",
       "        vertical-align: middle;\n",
       "    }\n",
       "\n",
       "    .dataframe tbody tr th {\n",
       "        vertical-align: top;\n",
       "    }\n",
       "\n",
       "    .dataframe thead th {\n",
       "        text-align: right;\n",
       "    }\n",
       "</style>\n",
       "<table border=\"1\" class=\"dataframe\">\n",
       "  <thead>\n",
       "    <tr style=\"text-align: right;\">\n",
       "      <th></th>\n",
       "      <th>Year</th>\n",
       "      <th>Actor</th>\n",
       "      <th>Director</th>\n",
       "      <th>Box Office</th>\n",
       "      <th>Budget</th>\n",
       "      <th>Bond Actor Salary</th>\n",
       "      <th>ratings</th>\n",
       "      <th>Ratings</th>\n",
       "    </tr>\n",
       "    <tr>\n",
       "      <th>Film</th>\n",
       "      <th></th>\n",
       "      <th></th>\n",
       "      <th></th>\n",
       "      <th></th>\n",
       "      <th></th>\n",
       "      <th></th>\n",
       "      <th></th>\n",
       "      <th></th>\n",
       "    </tr>\n",
       "  </thead>\n",
       "  <tbody>\n",
       "    <tr>\n",
       "      <th>Dr. No</th>\n",
       "      <td>1962</td>\n",
       "      <td>Sean Connery</td>\n",
       "      <td>Terence Young</td>\n",
       "      <td>448.8</td>\n",
       "      <td>7.0</td>\n",
       "      <td>0.6</td>\n",
       "      <td>1</td>\n",
       "      <td>Movie Hit</td>\n",
       "    </tr>\n",
       "    <tr>\n",
       "      <th>From Russia with Love</th>\n",
       "      <td>1963</td>\n",
       "      <td>Sean Connery</td>\n",
       "      <td>Terence Young</td>\n",
       "      <td>543.8</td>\n",
       "      <td>12.6</td>\n",
       "      <td>1.6</td>\n",
       "      <td>1</td>\n",
       "      <td>Movie Hit</td>\n",
       "    </tr>\n",
       "    <tr>\n",
       "      <th>Goldfinger</th>\n",
       "      <td>1964</td>\n",
       "      <td>Sean Connery</td>\n",
       "      <td>Guy Hamilton</td>\n",
       "      <td>820.4</td>\n",
       "      <td>18.6</td>\n",
       "      <td>3.2</td>\n",
       "      <td>1</td>\n",
       "      <td>Movie Hit</td>\n",
       "    </tr>\n",
       "    <tr>\n",
       "      <th>Thunderball</th>\n",
       "      <td>1965</td>\n",
       "      <td>Sean Connery</td>\n",
       "      <td>Terence Young</td>\n",
       "      <td>848.1</td>\n",
       "      <td>41.9</td>\n",
       "      <td>4.7</td>\n",
       "      <td>1</td>\n",
       "      <td>Movie Hit</td>\n",
       "    </tr>\n",
       "    <tr>\n",
       "      <th>Casino Royale</th>\n",
       "      <td>1967</td>\n",
       "      <td>David Niven</td>\n",
       "      <td>Ken Hughes</td>\n",
       "      <td>315.0</td>\n",
       "      <td>85.0</td>\n",
       "      <td>NaN</td>\n",
       "      <td>1</td>\n",
       "      <td>Movie Hit</td>\n",
       "    </tr>\n",
       "  </tbody>\n",
       "</table>\n",
       "</div>"
      ],
      "text/plain": [
       "                       Year         Actor       Director  Box Office  Budget  \\\n",
       "Film                                                                           \n",
       "Dr. No                 1962  Sean Connery  Terence Young       448.8     7.0   \n",
       "From Russia with Love  1963  Sean Connery  Terence Young       543.8    12.6   \n",
       "Goldfinger             1964  Sean Connery   Guy Hamilton       820.4    18.6   \n",
       "Thunderball            1965  Sean Connery  Terence Young       848.1    41.9   \n",
       "Casino Royale          1967   David Niven     Ken Hughes       315.0    85.0   \n",
       "\n",
       "                       Bond Actor Salary  ratings    Ratings  \n",
       "Film                                                          \n",
       "Dr. No                               0.6        1  Movie Hit  \n",
       "From Russia with Love                1.6        1  Movie Hit  \n",
       "Goldfinger                           3.2        1  Movie Hit  \n",
       "Thunderball                          4.7        1  Movie Hit  \n",
       "Casino Royale                        NaN        1  Movie Hit  "
      ]
     },
     "execution_count": 32,
     "metadata": {},
     "output_type": "execute_result"
    }
   ],
   "source": [
    "df.head()"
   ]
  },
  {
   "cell_type": "code",
   "execution_count": 33,
   "metadata": {},
   "outputs": [
    {
     "data": {
      "text/plain": [
       "Film\n",
       "Dr. No                                 Movie Hit\n",
       "From Russia with Love                  Movie Hit\n",
       "Goldfinger                             Movie Hit\n",
       "Thunderball                            Movie Hit\n",
       "Casino Royale                          Movie Hit\n",
       "You Only Live Twice                    Movie Hit\n",
       "On Her Majesty's Secret Service        Movie Hit\n",
       "Diamonds Are Forever                   Movie Hit\n",
       "Live and Let Die                       Movie Hit\n",
       "The Man with the Golden Gun            Movie Hit\n",
       "The Spy Who Loved Me                  Movie Flop\n",
       "Moonraker                             Movie Flop\n",
       "For Your Eyes Only                    Movie Flop\n",
       "Never Say Never Again                 Movie Flop\n",
       "Octopussy                             Movie Flop\n",
       "A View to a Kill                      Movie Flop\n",
       "The Living Daylights                  Movie Flop\n",
       "Licence to Kill                       Movie Flop\n",
       "GoldenEye                             Movie Flop\n",
       "Tomorrow Never Dies                   Movie Flop\n",
       "The World Is Not Enough               Movie Flop\n",
       "Die Another Day                    Movie Average\n",
       "Casino Royale                      Movie Average\n",
       "Quantum of Solace                  Movie Average\n",
       "Skyfall                            Movie Average\n",
       "Spectre                            Movie Average\n",
       "Name: Year, dtype: object"
      ]
     },
     "execution_count": 33,
     "metadata": {},
     "output_type": "execute_result"
    }
   ],
   "source": [
    "df[\"Year\"].map(dictionary)"
   ]
  },
  {
   "cell_type": "code",
   "execution_count": 34,
   "metadata": {},
   "outputs": [],
   "source": [
    "myDictionary = {\"Water\" : \"Happy\",\n",
    "                \"Fire\" : \"Angry\",\n",
    "                \"Venusaur\" : \"Sad\"}\n",
    "                "
   ]
  },
  {
   "cell_type": "code",
   "execution_count": 35,
   "metadata": {},
   "outputs": [
    {
     "data": {
      "text/plain": [
       "Pokemon\n",
       "Bulbasaur       NaN\n",
       "Ivysaur         NaN\n",
       "Venusaur        NaN\n",
       "Charmander    Angry\n",
       "Charmeleon    Angry\n",
       "              ...  \n",
       "Yveltal         NaN\n",
       "Zygarde         NaN\n",
       "Diancie         NaN\n",
       "Hoopa           NaN\n",
       "Volcanion     Angry\n",
       "Name: Type, Length: 721, dtype: object"
      ]
     },
     "execution_count": 35,
     "metadata": {},
     "output_type": "execute_result"
    }
   ],
   "source": [
    "series.map(myDictionary)"
   ]
  }
 ],
 "metadata": {
  "kernelspec": {
   "display_name": "Python 3",
   "language": "python",
   "name": "python3"
  },
  "language_info": {
   "codemirror_mode": {
    "name": "ipython",
    "version": 3
   },
   "file_extension": ".py",
   "mimetype": "text/x-python",
   "name": "python",
   "nbconvert_exporter": "python",
   "pygments_lexer": "ipython3",
   "version": "3.10.9"
  },
  "orig_nbformat": 4,
  "vscode": {
   "interpreter": {
    "hash": "82a4d8288499301dec019399199fc26037cf825d8893a65b91ef444885beb709"
   }
  }
 },
 "nbformat": 4,
 "nbformat_minor": 2
}
